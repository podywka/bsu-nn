{
 "cells": [
  {
   "cell_type": "code",
   "execution_count": null,
   "id": "da116cda",
   "metadata": {},
   "outputs": [
    {
     "name": "stdout",
     "output_type": "stream",
     "text": [
      "(!) Make sure this dir is project directory:  /home/ars/Desktop/university/bsu-nn\n"
     ]
    }
   ],
   "source": [
    "import sys\n",
    "from pathlib import Path\n",
    "\n",
    "_BASE_DIR = Path().resolve().parent.parent\n",
    "print(\"(!) Make sure this dir is project directory: \", _BASE_DIR)\n",
    "sys.path.append(str(_BASE_DIR))\n",
    "\n",
    "from utils.settings import get_in_out_dirs\n",
    "\n",
    "_LAB_NAME = \"lab9\"\n",
    "\n",
    "INPUT_DIR, OUTPUT_DIR = get_in_out_dirs(base_name=_LAB_NAME)\n",
    "\n",
    "DATA_DIR = INPUT_DIR / \"data_1a\"\n",
    "DATA_DIR.mkdir(parents=True, exist_ok=True)\n",
    "\n",
    "TRAIN_DIR = DATA_DIR / \"train\"\n",
    "TRAIN_DIR.mkdir(parents=True, exist_ok=True)\n",
    "\n",
    "TEST_DIR = DATA_DIR / \"test\"\n",
    "TEST_DIR.mkdir(parents=True, exist_ok=True)"
   ]
  },
  {
   "cell_type": "markdown",
   "id": "dbfba0b1",
   "metadata": {},
   "source": [
    "# Лаб. 9\n",
    "\n",
    "## Задание 1.  (из  темы  9.1):\n",
    "\n",
    "### 1А \n",
    "Дообучите нейронную сеть VGG16 для распознавания изображений только двух классов. Используйте дообученную сеть для классификации своих изображений.\n"
   ]
  },
  {
   "cell_type": "markdown",
   "id": "36a15e47",
   "metadata": {},
   "source": [
    "1. Скачаем картинки\n",
    "2. Они будут в одной папке **train_transformed**, переложим их в две папки **cats**, **dogs**\n",
    "3. Рандомно выберем 10 на тест"
   ]
  },
  {
   "cell_type": "code",
   "execution_count": null,
   "id": "a5655201",
   "metadata": {},
   "outputs": [
    {
     "name": "stdout",
     "output_type": "stream",
     "text": [
      "Dataset path: /home/ars/.cache/kagglehub/datasets/abhinavnayak/catsvdogs-transformed/versions/1\n",
      "Готово! Тренировочные данные в: /home/ars/Desktop/university/bsu-nn/data/inputs/lab9/data/train_classes\n",
      "Тестовые данные в: /home/ars/Desktop/university/bsu-nn/data/inputs/lab9/data/test_classes\n"
     ]
    }
   ],
   "source": [
    "import shutil\n",
    "import kagglehub\n",
    "\n",
    "path = kagglehub.dataset_download(\"abhinavnayak/catsvdogs-transformed\")\n",
    "print(\"Dataset path:\", path)\n",
    "\n",
    "# Копируем в твой TRAIN_DIR\n",
    "for item in Path(path).iterdir():\n",
    "    dest = TRAIN_DIR / item.name\n",
    "    if item.is_dir():\n",
    "        shutil.copytree(item, dest, dirs_exist_ok=True)\n",
    "    else:\n",
    "        shutil.copy(item, dest)"
   ]
  },
  {
   "cell_type": "code",
   "execution_count": null,
   "id": "1a933e33",
   "metadata": {},
   "outputs": [
    {
     "name": "stdout",
     "output_type": "stream",
     "text": [
      "Картинки разложены по папкам: /home/ars/Desktop/university/bsu-nn/data/inputs/lab9/data/train_classes/cats /home/ars/Desktop/university/bsu-nn/data/inputs/lab9/data/train_classes/dogs\n"
     ]
    }
   ],
   "source": [
    "src = TRAIN_DIR / \"train_transformed\"\n",
    "cats = TRAIN_DIR / \"cats\"\n",
    "dogs = TRAIN_DIR / \"dogs\"\n",
    "\n",
    "cats.mkdir(parents=True, exist_ok=True)\n",
    "dogs.mkdir(parents=True, exist_ok=True)\n",
    "\n",
    "for f in src.glob(\"*.jpg\"):\n",
    "    name = f.name.lower()\n",
    "    if name.startswith(\"cat\"):\n",
    "        shutil.move(str(f), cats / f.name)\n",
    "    elif name.startswith(\"dog\"):\n",
    "        shutil.move(str(f), dogs / f.name)\n",
    "\n",
    "print(\"Картинки разложены по папкам:\", cats, dogs)\n",
    "\n",
    "shutil.rmtree(TRAIN_DIR / \"train_transformed\")"
   ]
  },
  {
   "cell_type": "code",
   "execution_count": null,
   "id": "948cbe07",
   "metadata": {},
   "outputs": [
    {
     "name": "stdout",
     "output_type": "stream",
     "text": [
      "Готово! Тренировочные данные в: /home/ars/Desktop/university/bsu-nn/data/inputs/lab9/data/train_classes\n",
      "Тестовые данные в: /home/ars/Desktop/university/bsu-nn/data/inputs/lab9/data/test_classes\n"
     ]
    }
   ],
   "source": [
    "import shutil\n",
    "import random\n",
    "\n",
    "# Создаём тестовую выборку (10 случайных из каждого класса)\n",
    "for cls in [\"cats\", \"dogs\"]:\n",
    "    src_folder = TRAIN_DIR / cls\n",
    "    test_folder = TEST_DIR / cls\n",
    "    test_folder.mkdir(parents=True, exist_ok=True)\n",
    "    \n",
    "    files = list(src_folder.glob(\"*.jpg\"))\n",
    "    sample = random.sample(files, min(10, len(files)))\n",
    "    \n",
    "    for f in sample:\n",
    "        shutil.move(str(f), test_folder / f.name)\n",
    "\n",
    "print(\"Готово! Тренировочные данные в:\", TRAIN_DIR)\n",
    "print(\"Тестовые данные в:\", TEST_DIR)"
   ]
  },
  {
   "cell_type": "markdown",
   "id": "0690beac",
   "metadata": {},
   "source": [
    "***ТЕПЕРЬ САМА МОДЕЛЬ***"
   ]
  },
  {
   "cell_type": "code",
   "execution_count": null,
   "id": "ffac7056",
   "metadata": {},
   "outputs": [
    {
     "name": "stdout",
     "output_type": "stream",
     "text": [
      "Found 1584 images belonging to 2 classes.\n",
      "Found 396 images belonging to 2 classes.\n"
     ]
    }
   ],
   "source": [
    "from tensorflow.keras.applications import VGG16\n",
    "from tensorflow.keras import layers, models\n",
    "from tensorflow.keras.preprocessing.image import ImageDataGenerator\n",
    "from tensorflow.keras.metrics import BinaryAccuracy\n",
    "\n",
    "# -----------------------------\n",
    "# 1. Базовая сеть без верхушки\n",
    "# -----------------------------\n",
    "target_size_tp = (128,128)\n",
    "base_model = VGG16(weights=\"imagenet\", include_top=False, input_shape=(*target_size_tp, 3))\n",
    "base_model.trainable = False  # сначала замораживаем\n",
    "\n",
    "# -----------------------------\n",
    "# 2. Модель \"голова\"\n",
    "# -----------------------------\n",
    "model = models.Sequential([\n",
    "    base_model,\n",
    "    layers.Flatten(),\n",
    "    layers.Dense(256, activation=\"relu\"),\n",
    "    layers.Dropout(0.5),\n",
    "    layers.Dense(1, activation=\"sigmoid\")  # 2 класса → сигмоида\n",
    "])\n",
    "\n",
    "model.compile(optimizer=\"adam\", loss=\"binary_crossentropy\", metrics=[BinaryAccuracy()])\n",
    "\n",
    "# -----------------------------\n",
    "# 3. Генератор данных\n",
    "# -----------------------------\n",
    "datagen = ImageDataGenerator(rescale=1./255, validation_split=0.2)\n",
    "batch_size = 16\n",
    "train_gen = datagen.flow_from_directory(\n",
    "    TRAIN_DIR,\n",
    "    target_size=target_size_tp,\n",
    "    batch_size=batch_size,\n",
    "    class_mode=\"binary\",\n",
    "    subset=\"training\",\n",
    "    shuffle=True\n",
    ")\n",
    "\n",
    "val_gen = datagen.flow_from_directory(\n",
    "    TRAIN_DIR,\n",
    "    target_size=target_size_tp,\n",
    "    batch_size=batch_size,\n",
    "    class_mode=\"binary\",\n",
    "    subset=\"validation\",\n",
    "    shuffle=False\n",
    ")\n",
    "\n"
   ]
  },
  {
   "cell_type": "code",
   "execution_count": 39,
   "id": "8a8f0ea1",
   "metadata": {},
   "outputs": [],
   "source": [
    "MODEL_DIR = OUTPUT_DIR / \"model\"\n",
    "MODEL_DIR.mkdir(parents=True, exist_ok=True)\n",
    "\n",
    "OUT_MODEL_PATH = MODEL_DIR / \"vgg16_cats_dogs.h5\""
   ]
  },
  {
   "cell_type": "code",
   "execution_count": null,
   "id": "e1fa11df",
   "metadata": {},
   "outputs": [
    {
     "name": "stdout",
     "output_type": "stream",
     "text": [
      "Модель найдена, загружаем вместо тренировки...\n"
     ]
    },
    {
     "name": "stderr",
     "output_type": "stream",
     "text": [
      "WARNING:absl:Compiled the loaded model, but the compiled metrics have yet to be built. `model.compile_metrics` will be empty until you train or evaluate the model.\n"
     ]
    }
   ],
   "source": [
    "from tensorflow.keras.models import load_model\n",
    "\n",
    "# -----------------------------\n",
    "# 4. Тренировка\n",
    "# -----------------------------\n",
    "\n",
    "if OUT_MODEL_PATH.exists():\n",
    "    print(\"Модель найдена, загружаем вместо тренировки...\")\n",
    "    model = load_model(OUT_MODEL_PATH)\n",
    "\n",
    "else:\n",
    "    print(\"Модель не найдена, тренируем...\")\n",
    "    history = model.fit(\n",
    "        train_gen,\n",
    "        validation_data=val_gen,\n",
    "        epochs=1\n",
    "    )\n",
    "    print(\"Сохраняем модель...\")\n",
    "    model.save(OUT_MODEL_PATH)\n"
   ]
  },
  {
   "cell_type": "code",
   "execution_count": null,
   "id": "1af1c2b7",
   "metadata": {},
   "outputs": [
    {
     "name": "stdout",
     "output_type": "stream",
     "text": [
      "Found 20 images belonging to 2 classes.\n"
     ]
    },
    {
     "name": "stderr",
     "output_type": "stream",
     "text": [
      "/home/ars/Desktop/university/bsu-nn/.venv/lib/python3.12/site-packages/keras/src/trainers/data_adapters/py_dataset_adapter.py:121: UserWarning: Your `PyDataset` class should call `super().__init__(**kwargs)` in its constructor. `**kwargs` can include `workers`, `use_multiprocessing`, `max_queue_size`. Do not pass these arguments to `fit()`, as they will be ignored.\n",
      "  self._warn_if_super_not_called()\n"
     ]
    },
    {
     "name": "stdout",
     "output_type": "stream",
     "text": [
      "\u001b[1m2/2\u001b[0m \u001b[32m━━━━━━━━━━━━━━━━━━━━\u001b[0m\u001b[37m\u001b[0m \u001b[1m2s\u001b[0m 271ms/step - accuracy: 0.9000 - loss: 0.2245\n",
      "Test loss: 0.2245, accuracy: 0.9000\n"
     ]
    }
   ],
   "source": [
    "# -----------------------------\n",
    "# 5. Тест\n",
    "# -----------------------------\n",
    "\n",
    "test_datagen = ImageDataGenerator(rescale=1./255)\n",
    "\n",
    "test_gen = test_datagen.flow_from_directory(\n",
    "    TEST_DIR,\n",
    "    target_size=(128,128),      # должно совпадать с размером, который использовала модель\n",
    "    batch_size=16,\n",
    "    class_mode=\"binary\",        # два класса\n",
    "    shuffle=False               # важно, чтобы предсказания шли в том же порядке, что и файлы\n",
    ")\n",
    "\n",
    "# Оценка модели на тесте\n",
    "loss, acc = model.evaluate(\n",
    "    test_gen\n",
    ")\n",
    "print(f\"Test loss: {loss:.4f}, accuracy: {acc:.4f}\")"
   ]
  },
  {
   "cell_type": "markdown",
   "id": "24e9ad73",
   "metadata": {},
   "source": [
    "### 1Б\n",
    "Дообучите нейронную сеть VGG16 для распознавания изображений только трех классов. Используйте дообученную сеть для классификации своих изображений."
   ]
  },
  {
   "cell_type": "code",
   "execution_count": null,
   "id": "3c74eb56",
   "metadata": {},
   "outputs": [],
   "source": [
    "# -----------------------------\n",
    "# 1. Папки данных\n",
    "# -----------------------------\n",
    "DATA_DIR_2 = INPUT_DIR / \"data_1b\"\n",
    "DATA_DIR_2.mkdir(parents=True, exist_ok=True)\n",
    "\n",
    "DATA_DIR_2_SRC = INPUT_DIR / \"data_1b_src\"\n",
    "DATA_DIR_2_SRC.mkdir(parents=True, exist_ok=True)\n",
    "\n",
    "TRAIN_DIR_2 = DATA_DIR_2 / \"train\"\n",
    "TRAIN_DIR_2.mkdir(parents=True, exist_ok=True)\n",
    "\n",
    "TEST_DIR_2 = DATA_DIR_2 / \"test\"\n",
    "TEST_DIR_2.mkdir(parents=True, exist_ok=True)"
   ]
  },
  {
   "cell_type": "code",
   "execution_count": 50,
   "id": "b713cb70",
   "metadata": {},
   "outputs": [],
   "source": [
    "# -----------------------------\n",
    "# 2. Скачиваем и копируем датасет\n",
    "# -----------------------------\n",
    "\n",
    "for item in DATA_DIR_2_SRC.iterdir():\n",
    "    if item.is_dir() and item.name.endswith(\"_train\"):\n",
    "        cls_name = item.name.replace(\"_train\",\"\")\n",
    "        dest = TRAIN_DIR_2 / cls_name\n",
    "        shutil.copytree(item, dest, dirs_exist_ok=True)\n",
    "    \n",
    "    elif item.is_dir() and item.name.endswith(\"_test\"):\n",
    "        cls_name = item.name.replace(\"_test\",\"\")\n",
    "        dest = TEST_DIR_2 / cls_name\n",
    "        shutil.copytree(item, dest, dirs_exist_ok=True)"
   ]
  },
  {
   "cell_type": "code",
   "execution_count": 53,
   "id": "38a4f1dc",
   "metadata": {},
   "outputs": [],
   "source": [
    "# -----------------------------\n",
    "# 3. Архитектура модели\n",
    "# -----------------------------\n",
    "from tensorflow.keras.applications import VGG16\n",
    "from tensorflow.keras import layers, models\n",
    "from tensorflow.keras.preprocessing.image import ImageDataGenerator\n",
    "from tensorflow.keras.metrics import CategoricalAccuracy\n",
    "\n",
    "target_size_tp = (128,128)\n",
    "batch_size = 16\n",
    "\n",
    "base_model = VGG16(weights=\"imagenet\", include_top=False, input_shape=(*target_size_tp,3))\n",
    "base_model.trainable = False\n",
    "\n",
    "model = models.Sequential([\n",
    "    base_model,\n",
    "    layers.Flatten(),\n",
    "    layers.Dense(256, activation=\"relu\"),\n",
    "    layers.Dropout(0.5),\n",
    "    layers.Dense(3, activation=\"softmax\")  # 3 класса\n",
    "])\n",
    "\n",
    "model.compile(optimizer=\"adam\", loss=\"categorical_crossentropy\", metrics=[CategoricalAccuracy()])"
   ]
  },
  {
   "cell_type": "code",
   "execution_count": 54,
   "id": "2202cb63",
   "metadata": {},
   "outputs": [
    {
     "name": "stdout",
     "output_type": "stream",
     "text": [
      "Found 72 images belonging to 3 classes.\n",
      "Found 18 images belonging to 3 classes.\n",
      "Found 60 images belonging to 3 classes.\n"
     ]
    }
   ],
   "source": [
    "# -----------------------------\n",
    "# 4. Генераторы данных\n",
    "# -----------------------------\n",
    "datagen = ImageDataGenerator(rescale=1./255, validation_split=0.2)\n",
    "\n",
    "train_gen = datagen.flow_from_directory(\n",
    "    TRAIN_DIR_2,\n",
    "    target_size=target_size_tp,\n",
    "    batch_size=batch_size,\n",
    "    class_mode=\"categorical\",  # для >2 классов\n",
    "    subset=\"training\",\n",
    "    shuffle=True\n",
    ")\n",
    "\n",
    "val_gen = datagen.flow_from_directory(\n",
    "    TRAIN_DIR_2,\n",
    "    target_size=target_size_tp,\n",
    "    batch_size=batch_size,\n",
    "    class_mode=\"categorical\",\n",
    "    subset=\"validation\",\n",
    "    shuffle=False\n",
    ")\n",
    "\n",
    "test_datagen = ImageDataGenerator(rescale=1./255)\n",
    "test_gen = test_datagen.flow_from_directory(\n",
    "    TEST_DIR_2,\n",
    "    target_size=target_size_tp,\n",
    "    batch_size=batch_size,\n",
    "    class_mode=\"categorical\",\n",
    "    shuffle=False\n",
    ")"
   ]
  },
  {
   "cell_type": "code",
   "execution_count": 55,
   "id": "49358ef1",
   "metadata": {},
   "outputs": [
    {
     "name": "stdout",
     "output_type": "stream",
     "text": [
      "Модель не найдена, тренируем...\n"
     ]
    },
    {
     "name": "stderr",
     "output_type": "stream",
     "text": [
      "/home/ars/Desktop/university/bsu-nn/.venv/lib/python3.12/site-packages/keras/src/trainers/data_adapters/py_dataset_adapter.py:121: UserWarning: Your `PyDataset` class should call `super().__init__(**kwargs)` in its constructor. `**kwargs` can include `workers`, `use_multiprocessing`, `max_queue_size`. Do not pass these arguments to `fit()`, as they will be ignored.\n",
      "  self._warn_if_super_not_called()\n"
     ]
    },
    {
     "name": "stdout",
     "output_type": "stream",
     "text": [
      "\u001b[1m5/5\u001b[0m \u001b[32m━━━━━━━━━━━━━━━━━━━━\u001b[0m\u001b[37m\u001b[0m \u001b[1m8s\u001b[0m 1s/step - categorical_accuracy: 0.5417 - loss: 1.6618 - val_categorical_accuracy: 0.6667 - val_loss: 1.2338\n"
     ]
    },
    {
     "name": "stderr",
     "output_type": "stream",
     "text": [
      "WARNING:absl:You are saving your model as an HDF5 file via `model.save()` or `keras.saving.save_model(model)`. This file format is considered legacy. We recommend using instead the native Keras format, e.g. `model.save('my_model.keras')` or `keras.saving.save_model(model, 'my_model.keras')`. \n"
     ]
    },
    {
     "name": "stdout",
     "output_type": "stream",
     "text": [
      "Сохраняем модель...\n"
     ]
    }
   ],
   "source": [
    "# -----------------------------\n",
    "# 5. Обучение или загрузка\n",
    "# -----------------------------\n",
    "\n",
    "MODEL_DIR = OUTPUT_DIR / \"model\"\n",
    "MODEL_DIR.mkdir(parents=True, exist_ok=True)\n",
    "\n",
    "OUT_MODEL_PATH_2 = MODEL_DIR / \"vgg16_vehicles.h5\"\n",
    "\n",
    "\n",
    "if OUT_MODEL_PATH_2.exists():\n",
    "    print(\"Модель найдена, загружаем вместо тренировки...\")\n",
    "    model = load_model(OUT_MODEL_PATH_2)\n",
    "\n",
    "else:\n",
    "    print(\"Модель не найдена, тренируем...\")\n",
    "    history = model.fit(\n",
    "        train_gen,\n",
    "        validation_data=val_gen,\n",
    "        epochs=1\n",
    "    )\n",
    "    print(\"Сохраняем модель...\")\n",
    "    model.save(OUT_MODEL_PATH_2)"
   ]
  },
  {
   "cell_type": "code",
   "execution_count": 56,
   "id": "4af01b2a",
   "metadata": {},
   "outputs": [
    {
     "name": "stdout",
     "output_type": "stream",
     "text": [
      "\u001b[1m4/4\u001b[0m \u001b[32m━━━━━━━━━━━━━━━━━━━━\u001b[0m\u001b[37m\u001b[0m \u001b[1m3s\u001b[0m 819ms/step - categorical_accuracy: 0.6667 - loss: 1.0603\n",
      "Test loss: 1.0603, accuracy: 0.6667\n"
     ]
    }
   ],
   "source": [
    "# -----------------------------\n",
    "# 6. Оценка модели на тесте\n",
    "# -----------------------------\n",
    "loss, acc = model.evaluate(\n",
    "    test_gen\n",
    ")\n",
    "print(f\"Test loss: {loss:.4f}, accuracy: {acc:.4f}\")"
   ]
  }
 ],
 "metadata": {
  "kernelspec": {
   "display_name": "neural_networks",
   "language": "python",
   "name": "neural_networks"
  },
  "language_info": {
   "codemirror_mode": {
    "name": "ipython",
    "version": 3
   },
   "file_extension": ".py",
   "mimetype": "text/x-python",
   "name": "python",
   "nbconvert_exporter": "python",
   "pygments_lexer": "ipython3",
   "version": "3.12.3"
  }
 },
 "nbformat": 4,
 "nbformat_minor": 5
}
