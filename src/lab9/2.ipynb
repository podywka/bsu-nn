{
 "cells": [
  {
   "cell_type": "code",
   "execution_count": 13,
   "id": "d37c450e",
   "metadata": {},
   "outputs": [
    {
     "name": "stdout",
     "output_type": "stream",
     "text": [
      "(!) Make sure this dir is project directory:  /home/ars/Desktop/university/bsu-nn\n"
     ]
    }
   ],
   "source": [
    "import sys\n",
    "from pathlib import Path\n",
    "\n",
    "_BASE_DIR = Path().resolve().parent.parent\n",
    "print(\"(!) Make sure this dir is project directory: \", _BASE_DIR)\n",
    "sys.path.append(str(_BASE_DIR))\n",
    "\n",
    "from utils.settings import get_in_out_dirs\n",
    "\n",
    "# -----------------------------\n",
    "# 1. Папки данных\n",
    "# -----------------------------\n",
    "\n",
    "_LAB_NAME = \"lab9\"\n",
    "\n",
    "INPUT_DIR, OUTPUT_DIR = get_in_out_dirs(base_name=_LAB_NAME)\n",
    "\n",
    "DATA_DIR = INPUT_DIR / \"data_2\"\n",
    "DATA_SRC_DIR = INPUT_DIR / \"data_2_src\"\n",
    "TRAIN_DIR = DATA_DIR / \"train\"\n",
    "TEST_DIR = DATA_DIR / \"test\"\n",
    "\n",
    "DATA_DIR.mkdir(parents=True, exist_ok=True)\n",
    "DATA_SRC_DIR.mkdir(parents=True, exist_ok=True)\n",
    "TRAIN_DIR.mkdir(parents=True, exist_ok=True)\n",
    "TEST_DIR.mkdir(parents=True, exist_ok=True)"
   ]
  },
  {
   "cell_type": "markdown",
   "id": "58b11b82",
   "metadata": {},
   "source": [
    "# Лаб. 9"
   ]
  },
  {
   "cell_type": "markdown",
   "id": "92b05b72",
   "metadata": {},
   "source": [
    "## Задание 2.  (из  темы  9.2):\n",
    "\n",
    "Дообучите нейронную сеть ResNet34 распознаванию Вашего лица на фотографии. Используйте дообученную сеть для распознавания Вашего лица на других фотографиях (другой возраст; другой ракурс; часть лица закрыта, например, очками)."
   ]
  },
  {
   "cell_type": "code",
   "execution_count": 8,
   "id": "6ace07d6",
   "metadata": {},
   "outputs": [
    {
     "name": "stdout",
     "output_type": "stream",
     "text": [
      "Dataset path: /home/ars/.cache/kagglehub/datasets/vasukipatel/face-recognition-dataset/versions/1\n"
     ]
    }
   ],
   "source": [
    "import kagglehub\n",
    "import shutil\n",
    "\n",
    "# Download latest version\n",
    "path = kagglehub.dataset_download(\"vasukipatel/face-recognition-dataset\")\n",
    "print(\"Dataset path:\", path)\n",
    "\n",
    "# Копируем в DATA_SRC_DIR\n",
    "for item in Path(path).iterdir():\n",
    "    dest = DATA_SRC_DIR / item.name\n",
    "    if item.is_dir():\n",
    "        shutil.copytree(item, dest, dirs_exist_ok=True)\n",
    "    else:\n",
    "        shutil.copy(item, dest)"
   ]
  },
  {
   "cell_type": "code",
   "execution_count": 15,
   "id": "e8f8ac62",
   "metadata": {},
   "outputs": [],
   "source": [
    "# -----------------------------\n",
    "# 2. Подготовка датасета по CSV\n",
    "# -----------------------------\n",
    "import pandas as pd\n",
    "import shutil\n",
    "from sklearn.model_selection import train_test_split\n",
    "\n",
    "# Читаем CSV\n",
    "csv_path = DATA_DIR_SRC / \"Dataset.csv\"\n",
    "df = pd.read_csv(csv_path)\n",
    "\n",
    "# Создаём train/test split\n",
    "train_df, test_df = train_test_split(df, test_size=0.2, stratify=df['label'], random_state=42)\n",
    "\n",
    "# Копируем файлы в структуру папок для ImageDataGenerator\n",
    "for subset_df, subset_dir in [(train_df, TRAIN_DIR), (test_df, TEST_DIR)]:\n",
    "    for _, row in subset_df.iterrows():\n",
    "        label_dir = subset_dir / row['label']\n",
    "        label_dir.mkdir(parents=True, exist_ok=True)\n",
    "        # файл в Faces/Faces/\n",
    "        src_file = DATA_DIR_SRC / \"Faces\" / \"Faces\" / row['id']\n",
    "        dst_file = label_dir / row['id']\n",
    "        shutil.copy(src_file, dst_file)\n"
   ]
  },
  {
   "cell_type": "code",
   "execution_count": 17,
   "id": "83a85d48",
   "metadata": {},
   "outputs": [
    {
     "name": "stdout",
     "output_type": "stream",
     "text": [
      "Collecting timm\n",
      "  Downloading timm-1.0.19-py3-none-any.whl.metadata (60 kB)\n",
      "\u001b[2K     \u001b[38;2;114;156;31m━━━━━━━━━━━━━━━━━━━━━━━━━━━━━━━━━━━━━━━\u001b[0m \u001b[32m60.8/60.8 kB\u001b[0m \u001b[31m749.9 kB/s\u001b[0m eta \u001b[36m0:00:00\u001b[0mMB/s\u001b[0m eta \u001b[36m0:00:01\u001b[0m\n",
      "\u001b[?25hRequirement already satisfied: torch in /home/ars/Desktop/university/bsu-nn/.venv/lib/python3.12/site-packages (from timm) (2.8.0)\n",
      "Requirement already satisfied: torchvision in /home/ars/Desktop/university/bsu-nn/.venv/lib/python3.12/site-packages (from timm) (0.23.0)\n",
      "Requirement already satisfied: pyyaml in /home/ars/Desktop/university/bsu-nn/.venv/lib/python3.12/site-packages (from timm) (6.0.2)\n",
      "Collecting huggingface_hub (from timm)\n",
      "  Downloading huggingface_hub-0.34.4-py3-none-any.whl.metadata (14 kB)\n",
      "Collecting safetensors (from timm)\n",
      "  Downloading safetensors-0.6.2-cp38-abi3-manylinux_2_17_x86_64.manylinux2014_x86_64.whl.metadata (4.1 kB)\n",
      "Requirement already satisfied: filelock in /home/ars/Desktop/university/bsu-nn/.venv/lib/python3.12/site-packages (from huggingface_hub->timm) (3.19.1)\n",
      "Requirement already satisfied: fsspec>=2023.5.0 in /home/ars/Desktop/university/bsu-nn/.venv/lib/python3.12/site-packages (from huggingface_hub->timm) (2025.9.0)\n",
      "Requirement already satisfied: packaging>=20.9 in /home/ars/Desktop/university/bsu-nn/.venv/lib/python3.12/site-packages (from huggingface_hub->timm) (25.0)\n",
      "Requirement already satisfied: requests in /home/ars/Desktop/university/bsu-nn/.venv/lib/python3.12/site-packages (from huggingface_hub->timm) (2.32.5)\n",
      "Requirement already satisfied: tqdm>=4.42.1 in /home/ars/Desktop/university/bsu-nn/.venv/lib/python3.12/site-packages (from huggingface_hub->timm) (4.67.1)\n",
      "Requirement already satisfied: typing-extensions>=3.7.4.3 in /home/ars/Desktop/university/bsu-nn/.venv/lib/python3.12/site-packages (from huggingface_hub->timm) (4.15.0)\n",
      "Collecting hf-xet<2.0.0,>=1.1.3 (from huggingface_hub->timm)\n",
      "  Downloading hf_xet-1.1.9-cp37-abi3-manylinux_2_17_x86_64.manylinux2014_x86_64.whl.metadata (4.7 kB)\n",
      "Requirement already satisfied: setuptools in /home/ars/Desktop/university/bsu-nn/.venv/lib/python3.12/site-packages (from torch->timm) (80.9.0)\n",
      "Requirement already satisfied: sympy>=1.13.3 in /home/ars/Desktop/university/bsu-nn/.venv/lib/python3.12/site-packages (from torch->timm) (1.14.0)\n",
      "Requirement already satisfied: networkx in /home/ars/Desktop/university/bsu-nn/.venv/lib/python3.12/site-packages (from torch->timm) (3.5)\n",
      "Requirement already satisfied: jinja2 in /home/ars/Desktop/university/bsu-nn/.venv/lib/python3.12/site-packages (from torch->timm) (3.1.6)\n",
      "Requirement already satisfied: nvidia-cuda-nvrtc-cu12==12.8.93 in /home/ars/Desktop/university/bsu-nn/.venv/lib/python3.12/site-packages (from torch->timm) (12.8.93)\n",
      "Requirement already satisfied: nvidia-cuda-runtime-cu12==12.8.90 in /home/ars/Desktop/university/bsu-nn/.venv/lib/python3.12/site-packages (from torch->timm) (12.8.90)\n",
      "Requirement already satisfied: nvidia-cuda-cupti-cu12==12.8.90 in /home/ars/Desktop/university/bsu-nn/.venv/lib/python3.12/site-packages (from torch->timm) (12.8.90)\n",
      "Requirement already satisfied: nvidia-cudnn-cu12==9.10.2.21 in /home/ars/Desktop/university/bsu-nn/.venv/lib/python3.12/site-packages (from torch->timm) (9.10.2.21)\n",
      "Requirement already satisfied: nvidia-cublas-cu12==12.8.4.1 in /home/ars/Desktop/university/bsu-nn/.venv/lib/python3.12/site-packages (from torch->timm) (12.8.4.1)\n",
      "Requirement already satisfied: nvidia-cufft-cu12==11.3.3.83 in /home/ars/Desktop/university/bsu-nn/.venv/lib/python3.12/site-packages (from torch->timm) (11.3.3.83)\n",
      "Requirement already satisfied: nvidia-curand-cu12==10.3.9.90 in /home/ars/Desktop/university/bsu-nn/.venv/lib/python3.12/site-packages (from torch->timm) (10.3.9.90)\n",
      "Requirement already satisfied: nvidia-cusolver-cu12==11.7.3.90 in /home/ars/Desktop/university/bsu-nn/.venv/lib/python3.12/site-packages (from torch->timm) (11.7.3.90)\n",
      "Requirement already satisfied: nvidia-cusparse-cu12==12.5.8.93 in /home/ars/Desktop/university/bsu-nn/.venv/lib/python3.12/site-packages (from torch->timm) (12.5.8.93)\n",
      "Requirement already satisfied: nvidia-cusparselt-cu12==0.7.1 in /home/ars/Desktop/university/bsu-nn/.venv/lib/python3.12/site-packages (from torch->timm) (0.7.1)\n",
      "Requirement already satisfied: nvidia-nccl-cu12==2.27.3 in /home/ars/Desktop/university/bsu-nn/.venv/lib/python3.12/site-packages (from torch->timm) (2.27.3)\n",
      "Requirement already satisfied: nvidia-nvtx-cu12==12.8.90 in /home/ars/Desktop/university/bsu-nn/.venv/lib/python3.12/site-packages (from torch->timm) (12.8.90)\n",
      "Requirement already satisfied: nvidia-nvjitlink-cu12==12.8.93 in /home/ars/Desktop/university/bsu-nn/.venv/lib/python3.12/site-packages (from torch->timm) (12.8.93)\n",
      "Requirement already satisfied: nvidia-cufile-cu12==1.13.1.3 in /home/ars/Desktop/university/bsu-nn/.venv/lib/python3.12/site-packages (from torch->timm) (1.13.1.3)\n",
      "Requirement already satisfied: triton==3.4.0 in /home/ars/Desktop/university/bsu-nn/.venv/lib/python3.12/site-packages (from torch->timm) (3.4.0)\n",
      "Requirement already satisfied: numpy in /home/ars/Desktop/university/bsu-nn/.venv/lib/python3.12/site-packages (from torchvision->timm) (2.3.2)\n",
      "Requirement already satisfied: pillow!=8.3.*,>=5.3.0 in /home/ars/Desktop/university/bsu-nn/.venv/lib/python3.12/site-packages (from torchvision->timm) (11.3.0)\n",
      "Requirement already satisfied: mpmath<1.4,>=1.1.0 in /home/ars/Desktop/university/bsu-nn/.venv/lib/python3.12/site-packages (from sympy>=1.13.3->torch->timm) (1.3.0)\n",
      "Requirement already satisfied: MarkupSafe>=2.0 in /home/ars/Desktop/university/bsu-nn/.venv/lib/python3.12/site-packages (from jinja2->torch->timm) (3.0.2)\n",
      "Requirement already satisfied: charset_normalizer<4,>=2 in /home/ars/Desktop/university/bsu-nn/.venv/lib/python3.12/site-packages (from requests->huggingface_hub->timm) (3.4.3)\n",
      "Requirement already satisfied: idna<4,>=2.5 in /home/ars/Desktop/university/bsu-nn/.venv/lib/python3.12/site-packages (from requests->huggingface_hub->timm) (3.10)\n",
      "Requirement already satisfied: urllib3<3,>=1.21.1 in /home/ars/Desktop/university/bsu-nn/.venv/lib/python3.12/site-packages (from requests->huggingface_hub->timm) (2.5.0)\n",
      "Requirement already satisfied: certifi>=2017.4.17 in /home/ars/Desktop/university/bsu-nn/.venv/lib/python3.12/site-packages (from requests->huggingface_hub->timm) (2025.8.3)\n",
      "Downloading timm-1.0.19-py3-none-any.whl (2.5 MB)\n",
      "\u001b[2K   \u001b[38;2;114;156;31m━━━━━━━━━━━━━━━━━━━━━━━━━━━━━━━━━━━━━━━━\u001b[0m \u001b[32m2.5/2.5 MB\u001b[0m \u001b[31m3.3 MB/s\u001b[0m eta \u001b[36m0:00:00\u001b[0mm eta \u001b[36m0:00:01\u001b[0m0:01\u001b[0m:01\u001b[0m\n",
      "\u001b[?25hDownloading huggingface_hub-0.34.4-py3-none-any.whl (561 kB)\n",
      "\u001b[2K   \u001b[38;2;114;156;31m━━━━━━━━━━━━━━━━━━━━━━━━━━━━━━━━━━━━━━━━\u001b[0m \u001b[32m561.5/561.5 kB\u001b[0m \u001b[31m4.0 MB/s\u001b[0m eta \u001b[36m0:00:00\u001b[0m[31m4.5 MB/s\u001b[0m eta \u001b[36m0:00:01\u001b[0m\n",
      "\u001b[?25hDownloading safetensors-0.6.2-cp38-abi3-manylinux_2_17_x86_64.manylinux2014_x86_64.whl (485 kB)\n",
      "\u001b[2K   \u001b[38;2;114;156;31m━━━━━━━━━━━━━━━━━━━━━━━━━━━━━━━━━━━━━━━━\u001b[0m \u001b[32m485.8/485.8 kB\u001b[0m \u001b[31m3.4 MB/s\u001b[0m eta \u001b[36m0:00:00\u001b[0mm eta \u001b[36m0:00:01\u001b[0m0:01\u001b[0m:01\u001b[0m\n",
      "\u001b[?25hDownloading hf_xet-1.1.9-cp37-abi3-manylinux_2_17_x86_64.manylinux2014_x86_64.whl (3.2 MB)\n",
      "\u001b[2K   \u001b[38;2;114;156;31m━━━━━━━━━━━━━━━━━━━━━━━━━━━━━━━━━━━━━━━━\u001b[0m \u001b[32m3.2/3.2 MB\u001b[0m \u001b[31m4.9 MB/s\u001b[0m eta \u001b[36m0:00:00\u001b[0mm eta \u001b[36m0:00:01\u001b[0m[36m0:00:01\u001b[0m\n",
      "\u001b[?25hInstalling collected packages: safetensors, hf-xet, huggingface_hub, timm\n",
      "Successfully installed hf-xet-1.1.9 huggingface_hub-0.34.4 safetensors-0.6.2 timm-1.0.19\n"
     ]
    }
   ],
   "source": [
    "!pip install timm"
   ]
  },
  {
   "cell_type": "code",
   "execution_count": 26,
   "id": "ce7dcab4",
   "metadata": {},
   "outputs": [],
   "source": [
    "# -----------------------------\n",
    "# 3. Архитектура модели (PyTorch)\n",
    "# -----------------------------\n",
    "import torch\n",
    "import torch.nn as nn\n",
    "import torch.optim as optim\n",
    "from torchvision import transforms\n",
    "from torch.utils.data import DataLoader\n",
    "from torchvision.datasets import ImageFolder\n",
    "import timm\n",
    "\n",
    "device = torch.device(\"cuda\" if torch.cuda.is_available() else \"cpu\")\n",
    "\n",
    "target_size_tp = 128\n",
    "batch_size = 16\n",
    "\n",
    "# Data transforms\n",
    "train_transform = transforms.Compose([\n",
    "    transforms.Resize((target_size_tp, target_size_tp)),\n",
    "    transforms.RandomHorizontalFlip(),\n",
    "    transforms.ToTensor(),\n",
    "    transforms.Normalize([0.485, 0.456, 0.406],\n",
    "                         [0.229, 0.224, 0.225])\n",
    "])\n",
    "\n",
    "val_transform = transforms.Compose([\n",
    "    transforms.Resize((target_size_tp, target_size_tp)),\n",
    "    transforms.ToTensor(),\n",
    "    transforms.Normalize([0.485, 0.456, 0.406],\n",
    "                         [0.229, 0.224, 0.225])\n",
    "])\n",
    "\n",
    "# Datasets\n",
    "train_dataset = ImageFolder(TRAIN_DIR, transform=train_transform)\n",
    "val_dataset = ImageFolder(TRAIN_DIR, transform=val_transform)\n",
    "test_dataset = ImageFolder(TEST_DIR, transform=val_transform)\n",
    "\n",
    "train_loader = DataLoader(train_dataset, batch_size=batch_size, shuffle=True)\n",
    "val_loader = DataLoader(val_dataset, batch_size=batch_size, shuffle=False)\n",
    "test_loader = DataLoader(test_dataset, batch_size=batch_size, shuffle=False)\n",
    "\n",
    "# Model\n",
    "model = timm.create_model('resnet34', pretrained=True, num_classes=len(train_dataset.classes))\n",
    "model = model.to(device)\n",
    "\n",
    "# Loss & optimizer\n",
    "criterion = nn.CrossEntropyLoss()\n",
    "optimizer = optim.Adam(model.parameters(), lr=1e-4)"
   ]
  },
  {
   "cell_type": "code",
   "execution_count": 27,
   "id": "f3366a7d",
   "metadata": {},
   "outputs": [
    {
     "data": {
      "text/plain": [
       "['Akshay Kumar',\n",
       " 'Alexandra Daddario',\n",
       " 'Alia Bhatt',\n",
       " 'Amitabh Bachchan',\n",
       " 'Andy Samberg',\n",
       " 'Anushka Sharma',\n",
       " 'Billie Eilish',\n",
       " 'Brad Pitt',\n",
       " 'Camila Cabello',\n",
       " 'Charlize Theron',\n",
       " 'Claire Holt',\n",
       " 'Courtney Cox',\n",
       " 'Dwayne Johnson',\n",
       " 'Elizabeth Olsen',\n",
       " 'Ellen Degeneres',\n",
       " 'Henry Cavill',\n",
       " 'Hrithik Roshan',\n",
       " 'Hugh Jackman',\n",
       " 'Jessica Alba',\n",
       " 'Kashyap',\n",
       " 'Lisa Kudrow',\n",
       " 'Margot Robbie',\n",
       " 'Marmik',\n",
       " 'Natalie Portman',\n",
       " 'Priyanka Chopra',\n",
       " 'Robert Downey Jr',\n",
       " 'Roger Federer',\n",
       " 'Tom Cruise',\n",
       " 'Vijay Deverakonda',\n",
       " 'Virat Kohli',\n",
       " 'Zac Efron']"
      ]
     },
     "execution_count": 27,
     "metadata": {},
     "output_type": "execute_result"
    }
   ],
   "source": [
    "train_dataset.classes"
   ]
  },
  {
   "cell_type": "code",
   "execution_count": 28,
   "id": "f67247f0",
   "metadata": {},
   "outputs": [],
   "source": [
    "MODEL_DIR = OUTPUT_DIR / \"model\"\n",
    "MODEL_DIR.mkdir(parents=True, exist_ok=True)\n",
    "\n",
    "OUT_MODEL_PATH = MODEL_DIR / \"resnet34_faces.pth\""
   ]
  },
  {
   "cell_type": "code",
   "execution_count": 29,
   "id": "b46bfb45",
   "metadata": {},
   "outputs": [
    {
     "name": "stdout",
     "output_type": "stream",
     "text": [
      "Модель не найдена, тренируем...\n"
     ]
    },
    {
     "name": "stdout",
     "output_type": "stream",
     "text": [
      "Epoch 1 [10/129], Loss: 3.4506, Accuracy: 0.0187\n",
      "Epoch 1 [20/129], Loss: 3.4258, Accuracy: 0.0312\n",
      "Epoch 1 [30/129], Loss: 3.4213, Accuracy: 0.0396\n",
      "Epoch 1 [40/129], Loss: 3.4124, Accuracy: 0.0391\n",
      "Epoch 1 [50/129], Loss: 3.4099, Accuracy: 0.0387\n",
      "Epoch 1 [60/129], Loss: 3.4051, Accuracy: 0.0365\n",
      "Epoch 1 [70/129], Loss: 3.3989, Accuracy: 0.0446\n",
      "Epoch 1 [80/129], Loss: 3.3917, Accuracy: 0.0523\n",
      "Epoch 1 [90/129], Loss: 3.3837, Accuracy: 0.0590\n",
      "Epoch 1 [100/129], Loss: 3.3792, Accuracy: 0.0625\n",
      "Epoch 1 [110/129], Loss: 3.3732, Accuracy: 0.0659\n",
      "Epoch 1 [120/129], Loss: 3.3701, Accuracy: 0.0677\n",
      "Epoch 1 finished, Loss: 3.3651, Accuracy: 0.0708\n",
      "Сохраняем модель...\n"
     ]
    }
   ],
   "source": [
    "# -----------------------------\n",
    "# 4. Обучение или загрузка\n",
    "# -----------------------------\n",
    "\n",
    "if OUT_MODEL_PATH.exists():\n",
    "    print(\"Модель найдена, загружаем вместо тренировки...\")\n",
    "    model.load_state_dict(torch.load(OUT_MODEL_PATH, map_location=device))\n",
    "    model.to(device)\n",
    "\n",
    "else:\n",
    "    print(\"Модель не найдена, тренируем...\")\n",
    "    num_epochs = 1  # для теста\n",
    "    log_interval = 10  # печатать каждые 10 батчей\n",
    "\n",
    "    for epoch in range(num_epochs):\n",
    "        model.train()\n",
    "        running_loss = 0.0\n",
    "        correct = 0\n",
    "        total = 0\n",
    "        for batch_idx, (images, labels) in enumerate(train_loader):\n",
    "            images, labels = images.to(device), labels.to(device)\n",
    "            optimizer.zero_grad()\n",
    "            outputs = model(images)\n",
    "            loss = criterion(outputs, labels)\n",
    "            loss.backward()\n",
    "            optimizer.step()\n",
    "\n",
    "            running_loss += loss.item()\n",
    "            _, predicted = torch.max(outputs, 1)\n",
    "            total += labels.size(0)\n",
    "            correct += (predicted == labels).sum().item()\n",
    "\n",
    "            if (batch_idx + 1) % log_interval == 0:\n",
    "                print(f\"Epoch {epoch+1} [{batch_idx+1}/{len(train_loader)}], \"\n",
    "                      f\"Loss: {running_loss/(batch_idx+1):.4f}, \"\n",
    "                      f\"Accuracy: {correct/total:.4f}\")\n",
    "\n",
    "        # Лог по эпохе\n",
    "        print(f\"Epoch {epoch+1} finished, Loss: {running_loss/len(train_loader):.4f}, \"\n",
    "              f\"Accuracy: {correct/total:.4f}\")\n",
    "\n",
    "    print(\"Сохраняем модель...\")\n",
    "    torch.save(model.state_dict(), OUT_MODEL_PATH)\n"
   ]
  },
  {
   "cell_type": "code",
   "execution_count": 30,
   "id": "fd048ed9",
   "metadata": {},
   "outputs": [
    {
     "name": "stdout",
     "output_type": "stream",
     "text": [
      "Test Accuracy: 0.1404\n"
     ]
    }
   ],
   "source": [
    "# -----------------------------\n",
    "# 5. Оценка модели на тесте\n",
    "# -----------------------------\n",
    "\n",
    "model.eval()\n",
    "correct = 0\n",
    "total = 0\n",
    "with torch.no_grad():\n",
    "    for images, labels in test_loader:\n",
    "        images, labels = images.to(device), labels.to(device)\n",
    "        outputs = model(images)\n",
    "        _, predicted = torch.max(outputs, 1)\n",
    "        total += labels.size(0)\n",
    "        correct += (predicted == labels).sum().item()\n",
    "print(f\"Test Accuracy: {correct/total:.4f}\")"
   ]
  },
  {
   "cell_type": "code",
   "execution_count": null,
   "id": "b2655457",
   "metadata": {},
   "outputs": [],
   "source": []
  }
 ],
 "metadata": {
  "kernelspec": {
   "display_name": "neural_networks",
   "language": "python",
   "name": "neural_networks"
  },
  "language_info": {
   "codemirror_mode": {
    "name": "ipython",
    "version": 3
   },
   "file_extension": ".py",
   "mimetype": "text/x-python",
   "name": "python",
   "nbconvert_exporter": "python",
   "pygments_lexer": "ipython3",
   "version": "3.12.3"
  }
 },
 "nbformat": 4,
 "nbformat_minor": 5
}
