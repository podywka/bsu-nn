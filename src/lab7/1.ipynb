{
 "cells": [
  {
   "cell_type": "code",
   "execution_count": 1,
   "id": "45b29bfa",
   "metadata": {},
   "outputs": [
    {
     "name": "stdout",
     "output_type": "stream",
     "text": [
      "(!) Make sure this dir is project directory:  /home/ars/Desktop/university/bsu-nn\n"
     ]
    }
   ],
   "source": [
    "import sys\n",
    "from pathlib import Path\n",
    "\n",
    "_BASE_DIR = Path().resolve().parent.parent\n",
    "print(\"(!) Make sure this dir is project directory: \", _BASE_DIR)\n",
    "sys.path.append(str(_BASE_DIR))\n"
   ]
  },
  {
   "cell_type": "code",
   "execution_count": 2,
   "id": "9449cbb0",
   "metadata": {},
   "outputs": [],
   "source": [
    "from utils.settings import get_in_out_dirs\n",
    "\n",
    "_LAB_NAME = \"lab7\"\n",
    "\n",
    "INPUT_DIR, OUTPUT_DIR = get_in_out_dirs(base_name=_LAB_NAME)\n",
    "\n",
    "OUT_MODEL_DIR = OUTPUT_DIR / \"model\"\n",
    "OUT_MODEL_DIR.mkdir(parents=True, exist_ok=True)\n",
    "\n",
    "DATA_DIR = INPUT_DIR / \"data\"\n",
    "DATA_DIR.mkdir(parents=True, exist_ok=True)"
   ]
  },
  {
   "cell_type": "markdown",
   "id": "4487213a",
   "metadata": {},
   "source": [
    "# Лабораторная 7: Сверточные нейронные сети и использование VGG16\n"
   ]
  },
  {
   "cell_type": "markdown",
   "id": "59ff145f",
   "metadata": {},
   "source": [
    "## Задание 1\n",
    "\n",
    "Выполните базовую версию программы обучения сверточной нейронной сети распознавания изображений.  \n",
    "Попытайтесь улучшить качество обучения сети путем изменения гиперпараметров.  \n",
    "Сохраните обученую сеть.\n"
   ]
  },
  {
   "cell_type": "code",
   "execution_count": 5,
   "id": "ae11378e",
   "metadata": {},
   "outputs": [
    {
     "name": "stdout",
     "output_type": "stream",
     "text": [
      "Загружена предобученная модель\n"
     ]
    }
   ],
   "source": [
    "from utils.mnist import get_mnist_model\n",
    "\n",
    "mnist_model = get_mnist_model()"
   ]
  },
  {
   "cell_type": "markdown",
   "id": "e76a68ba",
   "metadata": {},
   "source": [
    "## Задание 2 \n",
    "\n",
    "Загрузите сохраненную сверточную нейронную сеть распознавания изображений.\n"
   ]
  },
  {
   "cell_type": "markdown",
   "id": "d992263e",
   "metadata": {},
   "source": [
    "***Выполнено в п.1***"
   ]
  },
  {
   "cell_type": "markdown",
   "id": "01b911fd",
   "metadata": {},
   "source": [
    "## Задание 3\n",
    "\n",
    "***Выполнено в прошлой лабораторной***\n"
   ]
  },
  {
   "cell_type": "markdown",
   "id": "294d5fb9",
   "metadata": {},
   "source": [
    "## Задание 4.1 (== Лаб 8.1.1)\n",
    "\n",
    "Используйте обученные сверточные сети для распознавания своих объектов и рукописных цифр.\n"
   ]
  },
  {
   "cell_type": "code",
   "execution_count": 13,
   "id": "b2fe6262",
   "metadata": {},
   "outputs": [
    {
     "data": {
      "text/plain": [
       "True"
      ]
     },
     "execution_count": 13,
     "metadata": {},
     "output_type": "execute_result"
    }
   ],
   "source": [
    "import os\n",
    "\n",
    "# Загружаем своё изображение\n",
    "my_image_path = os.path.join(DATA_DIR, \"3.png\")\n",
    "os.path.exists(my_image_path)"
   ]
  },
  {
   "cell_type": "code",
   "execution_count": 14,
   "id": "d468e82a",
   "metadata": {},
   "outputs": [
    {
     "data": {
      "image/png": "[encoded data removed]",
      "text/plain": [
       "<Figure size 300x300 with 1 Axes>"
      ]
     },
     "metadata": {},
     "output_type": "display_data"
    },
    {
     "name": "stdout",
     "output_type": "stream",
     "text": [
      "\u001b[1m1/1\u001b[0m \u001b[32m━━━━━━━━━━━━━━━━━━━━\u001b[0m\u001b[37m\u001b[0m \u001b[1m0s\u001b[0m 46ms/step\n",
      "0: 0.0%\n",
      "1: 0.0%\n",
      "2: 0.0%\n",
      "3: 98.0%\n",
      "4: 0.0%\n",
      "5: 2.0%\n",
      "6: 0.0%\n",
      "7: 0.0%\n",
      "8: 0.0%\n",
      "9: 0.0%\n",
      "Предсказанный результат: 3\n"
     ]
    },
    {
     "data": {
      "text/plain": [
       "np.int64(3)"
      ]
     },
     "execution_count": 14,
     "metadata": {},
     "output_type": "execute_result"
    }
   ],
   "source": [
    "from utils.mnist import predict_mnist_image\n",
    "\n",
    "predict_mnist_image(model=mnist_model, pic_path=my_image_path)"
   ]
  },
  {
   "cell_type": "markdown",
   "id": "44f1824d",
   "metadata": {},
   "source": [
    "## Задание 4.2 (== Лаб 8.1.2)\n",
    "\n",
    "Используйте предварительно обученную сеть VGG16 в Keras для распознавания своего изображения.\n"
   ]
  },
  {
   "cell_type": "code",
   "execution_count": 46,
   "id": "f7d5bcaa",
   "metadata": {},
   "outputs": [
    {
     "data": {
      "text/plain": [
       "True"
      ]
     },
     "execution_count": 46,
     "metadata": {},
     "output_type": "execute_result"
    }
   ],
   "source": [
    "import os\n",
    "\n",
    "# Загружаем своё изображение\n",
    "vgg_img_path = os.path.join(DATA_DIR, \"vgg.png\")\n",
    "os.path.exists(my_image_path)"
   ]
  },
  {
   "cell_type": "code",
   "execution_count": 47,
   "id": "5b209e91",
   "metadata": {},
   "outputs": [
    {
     "name": "stdout",
     "output_type": "stream",
     "text": [
      "\u001b[1m1/1\u001b[0m \u001b[32m━━━━━━━━━━━━━━━━━━━━\u001b[0m\u001b[37m\u001b[0m \u001b[1m0s\u001b[0m 450ms/step\n",
      "Топ-5 предсказаний:\n",
      "Siamese_cat (61.97%)\n",
      "tabby (9.84%)\n",
      "Egyptian_cat (6.59%)\n",
      "Persian_cat (6.00%)\n",
      "lynx (4.61%)\n"
     ]
    }
   ],
   "source": [
    "from tensorflow.keras.applications import VGG16\n",
    "from tensorflow.keras.applications.vgg16 import preprocess_input, decode_predictions\n",
    "from tensorflow.keras.preprocessing import image\n",
    "import numpy as np\n",
    "\n",
    "# Загружаем предобученную модель VGG16\n",
    "vgg_model = VGG16(weights='imagenet')\n",
    "\n",
    "# Загружаем картинку в нужном формате (224x224, RGB)\n",
    "img = image.load_img(vgg_img_path, target_size=(224, 224))\n",
    "x = image.img_to_array(img)\n",
    "x = np.expand_dims(x, axis=0)\n",
    "x = preprocess_input(x)\n",
    "\n",
    "# Предсказание\n",
    "preds = vgg_model.predict(x)\n",
    "\n",
    "# Декодируем в читаемые метки\n",
    "print(\"Топ-5 предсказаний:\")\n",
    "for pred in decode_predictions(preds, top=5)[0]:\n",
    "    print(f\"{pred[1]} ({pred[2]*100:.2f}%)\")\n"
   ]
  },
  {
   "cell_type": "code",
   "execution_count": null,
   "id": "ac06af5d",
   "metadata": {},
   "outputs": [],
   "source": []
  }
 ],
 "metadata": {
  "kernelspec": {
   "display_name": "neural_networks",
   "language": "python",
   "name": "neural_networks"
  },
  "language_info": {
   "codemirror_mode": {
    "name": "ipython",
    "version": 3
   },
   "file_extension": ".py",
   "mimetype": "text/x-python",
   "name": "python",
   "nbconvert_exporter": "python",
   "pygments_lexer": "ipython3",
   "version": "3.12.3"
  }
 },
 "nbformat": 4,
 "nbformat_minor": 5
}
