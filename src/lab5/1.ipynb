{
 "cells": [
  {
   "cell_type": "markdown",
   "id": "f3a93872-3c01-41e1-802c-243313800982",
   "metadata": {},
   "source": [
    "# Лаб. 5.1\n",
    "\n",
    "## Задание 1\n",
    "Выполните базовую версию программы обучения нейронной сети распознаванию рукописных цифр.\n"
   ]
  },
  {
   "cell_type": "code",
   "execution_count": 1,
   "id": "27a988ef-c9ce-4ffb-9f6a-720a003b3805",
   "metadata": {},
   "outputs": [
    {
     "name": "stderr",
     "output_type": "stream",
     "text": [
      "2025-09-07 18:09:52.218341: I tensorflow/core/platform/cpu_feature_guard.cc:210] This TensorFlow binary is optimized to use available CPU instructions in performance-critical operations.\n",
      "To enable the following instructions: AVX2 FMA, in other operations, rebuild TensorFlow with the appropriate compiler flags.\n"
     ]
    }
   ],
   "source": [
    "import numpy as np\n",
    "from keras.datasets import mnist\n",
    "from keras.models import Sequential\n",
    "from keras.layers import Dense\n",
    "from keras.utils import to_categorical\n",
    "\n",
    "np.random.seed(42)\n",
    "\n",
    "def load_and_prepare_data():\n",
    "    (X_train, y_train), (X_test, y_test) = mnist.load_data()\n",
    "    X_train = X_train.reshape(X_train.shape[0], -1).astype('float32') / 255\n",
    "    X_test = X_test.reshape(X_test.shape[0], -1).astype('float32') / 255\n",
    "    Y_train = to_categorical(y_train, 10)\n",
    "    Y_test = to_categorical(y_test, 10)\n",
    "    return X_train, Y_train, X_test, Y_test\n",
    "\n",
    "def build_model(input_dim=784, hidden_units=800, output_units=10):\n",
    "    model = Sequential()\n",
    "    model.add(Dense(hidden_units, input_dim=input_dim, activation='relu', kernel_initializer='normal'))\n",
    "    model.add(Dense(output_units, activation='softmax', kernel_initializer='normal'))\n",
    "    model.compile(loss='categorical_crossentropy', optimizer='SGD', metrics=['accuracy'])\n",
    "    return model\n",
    "\n",
    "def train_model(model, X_train, Y_train, batch_size=50, epochs=5, validation_split=0.2):\n",
    "    history = model.fit(X_train, Y_train, batch_size=batch_size, epochs=epochs, validation_split=validation_split, verbose=2)\n",
    "    return history\n",
    "\n",
    "def evaluate_model(model, X_test, Y_test):\n",
    "    scores = model.evaluate(X_test, Y_test, verbose=0)\n",
    "    print(f\"Точность на тестовых данных: {scores[1]*100:.2f}%\")\n",
    "    return scores\n",
    "\n",
    "def save_model(model, json_path=\"mnist_model.json\", weights_path=\"mnist_model.weights.h5\"):\n",
    "    model_json = model.to_json()\n",
    "    with open(json_path, \"w\") as json_file:\n",
    "        json_file.write(model_json)\n",
    "    model.save_weights(weights_path)\n",
    "    print(\"Модель и веса сохранены\")\n"
   ]
  },
  {
   "cell_type": "code",
   "execution_count": 2,
   "id": "3771153a-3a7f-4e2c-8d72-37a6e7a3ea0e",
   "metadata": {},
   "outputs": [
    {
     "name": "stderr",
     "output_type": "stream",
     "text": [
      "/home/ars/Desktop/university/bsu-nn/.venv/lib/python3.12/site-packages/keras/src/layers/core/dense.py:92: UserWarning: Do not pass an `input_shape`/`input_dim` argument to a layer. When using Sequential models, prefer using an `Input(shape)` object as the first layer in the model instead.\n",
      "  super().__init__(activity_regularizer=activity_regularizer, **kwargs)\n",
      "2025-09-07 18:09:58.264285: E external/local_xla/xla/stream_executor/cuda/cuda_platform.cc:51] failed call to cuInit: INTERNAL: CUDA error: Failed call to cuInit: UNKNOWN ERROR (303)\n"
     ]
    },
    {
     "name": "stdout",
     "output_type": "stream",
     "text": [
      "Epoch 1/5\n",
      "960/960 - 4s - 4ms/step - accuracy: 0.8176 - loss: 0.7608 - val_accuracy: 0.8979 - val_loss: 0.4039\n",
      "Epoch 2/5\n",
      "960/960 - 3s - 4ms/step - accuracy: 0.8989 - loss: 0.3817 - val_accuracy: 0.9119 - val_loss: 0.3232\n",
      "Epoch 3/5\n",
      "960/960 - 3s - 4ms/step - accuracy: 0.9112 - loss: 0.3240 - val_accuracy: 0.9204 - val_loss: 0.2895\n",
      "Epoch 4/5\n",
      "960/960 - 3s - 4ms/step - accuracy: 0.9190 - loss: 0.2927 - val_accuracy: 0.9271 - val_loss: 0.2664\n",
      "Epoch 5/5\n",
      "960/960 - 3s - 4ms/step - accuracy: 0.9247 - loss: 0.2705 - val_accuracy: 0.9304 - val_loss: 0.2504\n",
      "Точность на тестовых данных: 93.14%\n",
      "Модель и веса сохранены\n"
     ]
    }
   ],
   "source": [
    "X_train, Y_train, X_test, Y_test = load_and_prepare_data()\n",
    "model = build_model(hidden_units=800)\n",
    "history = train_model(model, X_train, Y_train, batch_size=50, epochs=5)\n",
    "evaluate_model(model, X_test, Y_test)\n",
    "save_model(model)"
   ]
  },
  {
   "cell_type": "markdown",
   "id": "8ebd280b",
   "metadata": {},
   "source": [
    "## Задание 2\n",
    "Попытайтесь улучшить качество обучения сети путем изменения гиперпараметров: количество эпох обучения, размер мини-выборки, количество нейронов во входном слое, количество скрытых слоев. Проведите серию экспериментов и проанализируйте результаты.\n"
   ]
  },
  {
   "cell_type": "code",
   "execution_count": 3,
   "id": "0cbacbac",
   "metadata": {},
   "outputs": [
    {
     "name": "stdout",
     "output_type": "stream",
     "text": [
      "Epoch 1/5\n",
      "960/960 - 3s - 3ms/step - accuracy: 0.7948 - loss: 0.8883 - val_accuracy: 0.8827 - val_loss: 0.4559\n",
      "Epoch 2/5\n",
      "960/960 - 3s - 3ms/step - accuracy: 0.8871 - loss: 0.4235 - val_accuracy: 0.9038 - val_loss: 0.3531\n",
      "Epoch 3/5\n",
      "960/960 - 3s - 3ms/step - accuracy: 0.9025 - loss: 0.3545 - val_accuracy: 0.9112 - val_loss: 0.3160\n",
      "Epoch 4/5\n",
      "960/960 - 2s - 3ms/step - accuracy: 0.9106 - loss: 0.3202 - val_accuracy: 0.9162 - val_loss: 0.2907\n",
      "Epoch 5/5\n",
      "960/960 - 3s - 3ms/step - accuracy: 0.9166 - loss: 0.2965 - val_accuracy: 0.9233 - val_loss: 0.2726\n",
      "Точность на тестовых данных: 92.68%\n",
      "Epoch 1/5\n",
      "480/480 - 3s - 5ms/step - accuracy: 0.7694 - loss: 1.0010 - val_accuracy: 0.8785 - val_loss: 0.5394\n",
      "Epoch 2/5\n",
      "480/480 - 2s - 4ms/step - accuracy: 0.8797 - loss: 0.4885 - val_accuracy: 0.8959 - val_loss: 0.4017\n",
      "Epoch 3/5\n",
      "480/480 - 2s - 4ms/step - accuracy: 0.8949 - loss: 0.4002 - val_accuracy: 0.9062 - val_loss: 0.3512\n",
      "Epoch 4/5\n",
      "480/480 - 2s - 4ms/step - accuracy: 0.9033 - loss: 0.3583 - val_accuracy: 0.9100 - val_loss: 0.3236\n",
      "Epoch 5/5\n",
      "480/480 - 2s - 4ms/step - accuracy: 0.9085 - loss: 0.3319 - val_accuracy: 0.9168 - val_loss: 0.3036\n",
      "Точность на тестовых данных: 91.74%\n",
      "Epoch 1/10\n",
      "960/960 - 4s - 4ms/step - accuracy: 0.8105 - loss: 0.7818 - val_accuracy: 0.8959 - val_loss: 0.4118\n",
      "Epoch 2/10\n",
      "960/960 - 3s - 4ms/step - accuracy: 0.8957 - loss: 0.3889 - val_accuracy: 0.9107 - val_loss: 0.3279\n",
      "Epoch 3/10\n",
      "960/960 - 3s - 3ms/step - accuracy: 0.9094 - loss: 0.3279 - val_accuracy: 0.9176 - val_loss: 0.2922\n",
      "Epoch 4/10\n",
      "960/960 - 3s - 3ms/step - accuracy: 0.9181 - loss: 0.2951 - val_accuracy: 0.9254 - val_loss: 0.2687\n",
      "Epoch 5/10\n",
      "960/960 - 3s - 3ms/step - accuracy: 0.9236 - loss: 0.2716 - val_accuracy: 0.9287 - val_loss: 0.2516\n",
      "Epoch 6/10\n",
      "960/960 - 3s - 3ms/step - accuracy: 0.9291 - loss: 0.2533 - val_accuracy: 0.9330 - val_loss: 0.2381\n",
      "Epoch 7/10\n",
      "960/960 - 3s - 3ms/step - accuracy: 0.9336 - loss: 0.2383 - val_accuracy: 0.9372 - val_loss: 0.2251\n",
      "Epoch 8/10\n",
      "960/960 - 3s - 4ms/step - accuracy: 0.9369 - loss: 0.2251 - val_accuracy: 0.9388 - val_loss: 0.2148\n",
      "Epoch 9/10\n",
      "960/960 - 3s - 3ms/step - accuracy: 0.9405 - loss: 0.2132 - val_accuracy: 0.9417 - val_loss: 0.2060\n",
      "Epoch 10/10\n",
      "960/960 - 3s - 3ms/step - accuracy: 0.9431 - loss: 0.2029 - val_accuracy: 0.9457 - val_loss: 0.1976\n",
      "Точность на тестовых данных: 94.46%\n",
      "Epoch 1/5\n",
      "960/960 - 5s - 5ms/step - accuracy: 0.8325 - loss: 0.6742 - val_accuracy: 0.9042 - val_loss: 0.3692\n",
      "Epoch 2/5\n",
      "960/960 - 5s - 5ms/step - accuracy: 0.9043 - loss: 0.3545 - val_accuracy: 0.9156 - val_loss: 0.3013\n",
      "Epoch 3/5\n",
      "960/960 - 5s - 5ms/step - accuracy: 0.9164 - loss: 0.3018 - val_accuracy: 0.9250 - val_loss: 0.2696\n",
      "Epoch 4/5\n",
      "960/960 - 5s - 5ms/step - accuracy: 0.9244 - loss: 0.2719 - val_accuracy: 0.9307 - val_loss: 0.2501\n",
      "Epoch 5/5\n",
      "960/960 - 5s - 5ms/step - accuracy: 0.9305 - loss: 0.2504 - val_accuracy: 0.9356 - val_loss: 0.2338\n",
      "Точность на тестовых данных: 93.47%\n"
     ]
    },
    {
     "data": {
      "text/plain": [
       "[({'hidden_units': 400, 'batch_size': 50, 'epochs': 5}, 92.6800012588501),\n",
       " ({'hidden_units': 800, 'batch_size': 100, 'epochs': 5}, 91.74000024795532),\n",
       " ({'hidden_units': 800, 'batch_size': 50, 'epochs': 10}, 94.4599986076355),\n",
       " ({'hidden_units': 1200, 'batch_size': 50, 'epochs': 5}, 93.47000122070312)]"
      ]
     },
     "execution_count": 3,
     "metadata": {},
     "output_type": "execute_result"
    }
   ],
   "source": [
    "# Пример экспериментов с гиперпараметрами\n",
    "experiments = [\n",
    "    {\"hidden_units\": 400, \"batch_size\": 50, \"epochs\": 5},\n",
    "    {\"hidden_units\": 800, \"batch_size\": 100, \"epochs\": 5},\n",
    "    {\"hidden_units\": 800, \"batch_size\": 50, \"epochs\": 10},\n",
    "    {\"hidden_units\": 1200, \"batch_size\": 50, \"epochs\": 5},\n",
    "]\n",
    "\n",
    "results = []\n",
    "\n",
    "for exp in experiments:\n",
    "    model = build_model(hidden_units=exp[\"hidden_units\"])\n",
    "    history = train_model(model, X_train, Y_train, batch_size=exp[\"batch_size\"], epochs=exp[\"epochs\"])\n",
    "    score = evaluate_model(model, X_test, Y_test)\n",
    "    results.append((exp, score[1]*100))\n",
    "\n",
    "results\n"
   ]
  },
  {
   "cell_type": "markdown",
   "id": "edd6e0d6",
   "metadata": {},
   "source": [
    "## Задание 3\n",
    "Создайте сеть с лучшими значениями гиперпараметров, выявленными в эксперименте.\n"
   ]
  },
  {
   "cell_type": "code",
   "execution_count": 4,
   "id": "204105d0",
   "metadata": {},
   "outputs": [
    {
     "name": "stdout",
     "output_type": "stream",
     "text": [
      "Epoch 1/10\n",
      "960/960 - 4s - 4ms/step - accuracy: 0.8248 - loss: 0.7539 - val_accuracy: 0.8946 - val_loss: 0.4061\n",
      "Epoch 2/10\n",
      "960/960 - 3s - 3ms/step - accuracy: 0.8980 - loss: 0.3824 - val_accuracy: 0.9122 - val_loss: 0.3246\n",
      "Epoch 3/10\n",
      "960/960 - 3s - 3ms/step - accuracy: 0.9112 - loss: 0.3236 - val_accuracy: 0.9196 - val_loss: 0.2899\n",
      "Epoch 4/10\n",
      "960/960 - 3s - 3ms/step - accuracy: 0.9189 - loss: 0.2912 - val_accuracy: 0.9258 - val_loss: 0.2672\n",
      "Epoch 5/10\n",
      "960/960 - 3s - 3ms/step - accuracy: 0.9255 - loss: 0.2685 - val_accuracy: 0.9305 - val_loss: 0.2495\n",
      "Epoch 6/10\n",
      "960/960 - 3s - 4ms/step - accuracy: 0.9308 - loss: 0.2503 - val_accuracy: 0.9342 - val_loss: 0.2354\n",
      "Epoch 7/10\n",
      "960/960 - 3s - 3ms/step - accuracy: 0.9345 - loss: 0.2351 - val_accuracy: 0.9383 - val_loss: 0.2230\n",
      "Epoch 8/10\n",
      "960/960 - 3s - 4ms/step - accuracy: 0.9386 - loss: 0.2221 - val_accuracy: 0.9423 - val_loss: 0.2128\n",
      "Epoch 9/10\n",
      "960/960 - 4s - 4ms/step - accuracy: 0.9415 - loss: 0.2107 - val_accuracy: 0.9456 - val_loss: 0.2038\n",
      "Epoch 10/10\n",
      "960/960 - 6s - 7ms/step - accuracy: 0.9444 - loss: 0.2002 - val_accuracy: 0.9474 - val_loss: 0.1961\n",
      "Точность на тестовых данных: 94.61%\n",
      "Модель и веса сохранены\n"
     ]
    }
   ],
   "source": [
    "best_params = {'hidden_units': 800, 'batch_size': 50, 'epochs': 10}\n",
    "\n",
    "best_model = build_model(hidden_units=best_params[\"hidden_units\"])\n",
    "train_model(best_model, X_train, Y_train, batch_size=best_params[\"batch_size\"], epochs=best_params[\"epochs\"])\n",
    "evaluate_model(best_model, X_test, Y_test)\n",
    "save_model(best_model, json_path=\"mnist_best_model.json\", weights_path=\"mnist_best_model.weights.h5\")"
   ]
  },
  {
   "cell_type": "code",
   "execution_count": null,
   "id": "de23fe82",
   "metadata": {},
   "outputs": [],
   "source": []
  }
 ],
 "metadata": {
  "kernelspec": {
   "display_name": "neural_networks",
   "language": "python",
   "name": "neural_networks"
  },
  "language_info": {
   "codemirror_mode": {
    "name": "ipython",
    "version": 3
   },
   "file_extension": ".py",
   "mimetype": "text/x-python",
   "name": "python",
   "nbconvert_exporter": "python",
   "pygments_lexer": "ipython3",
   "version": "3.12.3"
  }
 },
 "nbformat": 4,
 "nbformat_minor": 5
}
