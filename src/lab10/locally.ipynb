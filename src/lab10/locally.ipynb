{
 "cells": [
  {
   "cell_type": "code",
   "execution_count": null,
   "id": "4dba2153",
   "metadata": {},
   "outputs": [
    {
     "name": "stdout",
     "output_type": "stream",
     "text": [
      "(!) Make sure this dir is project directory:  /home/ars/Desktop/university/bsu-nn\n"
     ]
    }
   ],
   "source": [
    "import sys\n",
    "from pathlib import Path\n",
    "\n",
    "_BASE_DIR = Path().resolve().parent.parent\n",
    "print(\"(!) Make sure this dir is project directory: \", _BASE_DIR)\n",
    "sys.path.append(str(_BASE_DIR))\n",
    "\n",
    "from utils.settings import get_in_out_dirs\n",
    "\n",
    "_LAB_NAME = \"lab10\"\n",
    "\n",
    "INPUT_DIR, OUTPUT_DIR = get_in_out_dirs(base_name=_LAB_NAME)\n",
    "\n",
    "DATA_DIR = INPUT_DIR / \"data\"\n",
    "DATA_DIR.mkdir(parents=True, exist_ok=True)"
   ]
  },
  {
   "cell_type": "markdown",
   "id": "5e9ea596",
   "metadata": {},
   "source": [
    "# Лаб. 10\n",
    "\n",
    "## Задание 1.  (из  тем  10.1–10.2):\n",
    "\n",
    "Обучите рекуррентную нейронную сеть распознаванию тональности отзывов на тестовых данных открытого набора данных imdb.\n"
   ]
  },
  {
   "cell_type": "code",
   "execution_count": 2,
   "id": "c124067c",
   "metadata": {},
   "outputs": [
    {
     "name": "stderr",
     "output_type": "stream",
     "text": [
      "2025-09-07 15:19:14.651385: I tensorflow/core/platform/cpu_feature_guard.cc:210] This TensorFlow binary is optimized to use available CPU instructions in performance-critical operations.\n",
      "To enable the following instructions: AVX2 FMA, in other operations, rebuild TensorFlow with the appropriate compiler flags.\n"
     ]
    }
   ],
   "source": [
    "import numpy as np\n",
    "from tensorflow.keras.datasets import imdb\n",
    "from tensorflow.keras.preprocessing.sequence import pad_sequences\n",
    "from tensorflow.keras.models import Sequential\n",
    "from tensorflow.keras.layers import Embedding, LSTM, Dense, Dropout\n",
    "from tensorflow.keras.optimizers import Adam"
   ]
  },
  {
   "cell_type": "code",
   "execution_count": 3,
   "id": "9ec0d071",
   "metadata": {},
   "outputs": [
    {
     "name": "stdout",
     "output_type": "stream",
     "text": [
      "Train shape: (25000, 200), Test shape: (25000, 200)\n"
     ]
    }
   ],
   "source": [
    "# -----------------------------\n",
    "# Загружаем данные\n",
    "# -----------------------------\n",
    "NUM_WORDS = 5000   # используем топ-5000 слов\n",
    "MAX_LEN = 200      # максимальная длина отзыва\n",
    "\n",
    "(train_x, train_y), (test_x, test_y) = imdb.load_data(num_words=NUM_WORDS)\n",
    "\n",
    "# Дополняем последовательности до одинаковой длины\n",
    "train_x = pad_sequences(train_x, maxlen=MAX_LEN, padding='post')\n",
    "test_x = pad_sequences(test_x, maxlen=MAX_LEN, padding='post')\n",
    "\n",
    "print(f\"Train shape: {train_x.shape}, Test shape: {test_x.shape}\")"
   ]
  },
  {
   "cell_type": "code",
   "execution_count": null,
   "id": "95948528",
   "metadata": {},
   "outputs": [
    {
     "name": "stderr",
     "output_type": "stream",
     "text": [
      "/home/ars/Desktop/university/bsu-nn/.venv/lib/python3.12/site-packages/keras/src/layers/core/embedding.py:97: UserWarning: Argument `input_length` is deprecated. Just remove it.\n",
      "  warnings.warn(\n",
      "2025-09-07 15:19:24.328349: E external/local_xla/xla/stream_executor/cuda/cuda_platform.cc:51] failed call to cuInit: INTERNAL: CUDA error: Failed call to cuInit: UNKNOWN ERROR (303)\n"
     ]
    },
    {
     "data": {
      "text/html": [
       "<pre style=\"white-space:pre;overflow-x:auto;line-height:normal;font-family:Menlo,'DejaVu Sans Mono',consolas,'Courier New',monospace\"><span style=\"font-weight: bold\">Model: \"sequential\"</span>\n",
       "</pre>\n"
      ],
      "text/plain": [
       "\u001b[1mModel: \"sequential\"\u001b[0m\n"
      ]
     },
     "metadata": {},
     "output_type": "display_data"
    },
    {
     "data": {
      "text/html": [
       "<pre style=\"white-space:pre;overflow-x:auto;line-height:normal;font-family:Menlo,'DejaVu Sans Mono',consolas,'Courier New',monospace\">┏━━━━━━━━━━━━━━━━━━━━━━━━━━━━━━━━━┳━━━━━━━━━━━━━━━━━━━━━━━━┳━━━━━━━━━━━━━━━┓\n",
       "┃<span style=\"font-weight: bold\"> Layer (type)                    </span>┃<span style=\"font-weight: bold\"> Output Shape           </span>┃<span style=\"font-weight: bold\">       Param # </span>┃\n",
       "┡━━━━━━━━━━━━━━━━━━━━━━━━━━━━━━━━━╇━━━━━━━━━━━━━━━━━━━━━━━━╇━━━━━━━━━━━━━━━┩\n",
       "│ embedding (<span style=\"color: #0087ff; text-decoration-color: #0087ff\">Embedding</span>)           │ ?                      │   <span style=\"color: #00af00; text-decoration-color: #00af00\">0</span> (unbuilt) │\n",
       "├─────────────────────────────────┼────────────────────────┼───────────────┤\n",
       "│ lstm (<span style=\"color: #0087ff; text-decoration-color: #0087ff\">LSTM</span>)                     │ ?                      │   <span style=\"color: #00af00; text-decoration-color: #00af00\">0</span> (unbuilt) │\n",
       "├─────────────────────────────────┼────────────────────────┼───────────────┤\n",
       "│ dense (<span style=\"color: #0087ff; text-decoration-color: #0087ff\">Dense</span>)                   │ ?                      │   <span style=\"color: #00af00; text-decoration-color: #00af00\">0</span> (unbuilt) │\n",
       "└─────────────────────────────────┴────────────────────────┴───────────────┘\n",
       "</pre>\n"
      ],
      "text/plain": [
       "┏━━━━━━━━━━━━━━━━━━━━━━━━━━━━━━━━━┳━━━━━━━━━━━━━━━━━━━━━━━━┳━━━━━━━━━━━━━━━┓\n",
       "┃\u001b[1m \u001b[0m\u001b[1mLayer (type)                   \u001b[0m\u001b[1m \u001b[0m┃\u001b[1m \u001b[0m\u001b[1mOutput Shape          \u001b[0m\u001b[1m \u001b[0m┃\u001b[1m \u001b[0m\u001b[1m      Param #\u001b[0m\u001b[1m \u001b[0m┃\n",
       "┡━━━━━━━━━━━━━━━━━━━━━━━━━━━━━━━━━╇━━━━━━━━━━━━━━━━━━━━━━━━╇━━━━━━━━━━━━━━━┩\n",
       "│ embedding (\u001b[38;5;33mEmbedding\u001b[0m)           │ ?                      │   \u001b[38;5;34m0\u001b[0m (unbuilt) │\n",
       "├─────────────────────────────────┼────────────────────────┼───────────────┤\n",
       "│ lstm (\u001b[38;5;33mLSTM\u001b[0m)                     │ ?                      │   \u001b[38;5;34m0\u001b[0m (unbuilt) │\n",
       "├─────────────────────────────────┼────────────────────────┼───────────────┤\n",
       "│ dense (\u001b[38;5;33mDense\u001b[0m)                   │ ?                      │   \u001b[38;5;34m0\u001b[0m (unbuilt) │\n",
       "└─────────────────────────────────┴────────────────────────┴───────────────┘\n"
      ]
     },
     "metadata": {},
     "output_type": "display_data"
    },
    {
     "data": {
      "text/html": [
       "<pre style=\"white-space:pre;overflow-x:auto;line-height:normal;font-family:Menlo,'DejaVu Sans Mono',consolas,'Courier New',monospace\"><span style=\"font-weight: bold\"> Total params: </span><span style=\"color: #00af00; text-decoration-color: #00af00\">0</span> (0.00 B)\n",
       "</pre>\n"
      ],
      "text/plain": [
       "\u001b[1m Total params: \u001b[0m\u001b[38;5;34m0\u001b[0m (0.00 B)\n"
      ]
     },
     "metadata": {},
     "output_type": "display_data"
    },
    {
     "data": {
      "text/html": [
       "<pre style=\"white-space:pre;overflow-x:auto;line-height:normal;font-family:Menlo,'DejaVu Sans Mono',consolas,'Courier New',monospace\"><span style=\"font-weight: bold\"> Trainable params: </span><span style=\"color: #00af00; text-decoration-color: #00af00\">0</span> (0.00 B)\n",
       "</pre>\n"
      ],
      "text/plain": [
       "\u001b[1m Trainable params: \u001b[0m\u001b[38;5;34m0\u001b[0m (0.00 B)\n"
      ]
     },
     "metadata": {},
     "output_type": "display_data"
    },
    {
     "data": {
      "text/html": [
       "<pre style=\"white-space:pre;overflow-x:auto;line-height:normal;font-family:Menlo,'DejaVu Sans Mono',consolas,'Courier New',monospace\"><span style=\"font-weight: bold\"> Non-trainable params: </span><span style=\"color: #00af00; text-decoration-color: #00af00\">0</span> (0.00 B)\n",
       "</pre>\n"
      ],
      "text/plain": [
       "\u001b[1m Non-trainable params: \u001b[0m\u001b[38;5;34m0\u001b[0m (0.00 B)\n"
      ]
     },
     "metadata": {},
     "output_type": "display_data"
    }
   ],
   "source": [
    "# -----------------------------\n",
    "# Строим модель LSTM\n",
    "# -----------------------------\n",
    "embedding_dim = 32\n",
    "lstm_units = 64\n",
    "\n",
    "model = Sequential([\n",
    "    Embedding(input_dim=NUM_WORDS, output_dim=embedding_dim),\n",
    "    LSTM(lstm_units, dropout=0.2, recurrent_dropout=0.2),\n",
    "    Dense(1, activation='sigmoid')\n",
    "])\n",
    "\n",
    "model.compile(optimizer=Adam(learning_rate=0.001),\n",
    "              loss='binary_crossentropy',\n",
    "              metrics=['accuracy'])\n",
    "\n",
    "model.summary()"
   ]
  },
  {
   "cell_type": "code",
   "execution_count": null,
   "id": "1241d055",
   "metadata": {},
   "outputs": [],
   "source": [
    "MODEL_DIR = OUTPUT_DIR / \"model\"\n",
    "MODEL_DIR.mkdir(parents=True, exist_ok=True)\n",
    "\n",
    "OUT_MODEL_PATH = MODEL_DIR / \"imdb_lstm_model.h5\""
   ]
  },
  {
   "cell_type": "code",
   "execution_count": null,
   "id": "c2538503",
   "metadata": {},
   "outputs": [],
   "source": [
    "import tensorflow as tf\n",
    "tf.config.run_functions_eagerly(True)"
   ]
  },
  {
   "cell_type": "code",
   "execution_count": 8,
   "id": "59b24ac2",
   "metadata": {},
   "outputs": [
    {
     "name": "stdout",
     "output_type": "stream",
     "text": [
      "Модель не найдена, тренируем...\n"
     ]
    },
    {
     "name": "stderr",
     "output_type": "stream",
     "text": [
      "/home/ars/Desktop/university/bsu-nn/.venv/lib/python3.12/site-packages/tensorflow/python/data/ops/structured_function.py:258: UserWarning: Even though the `tf.config.experimental_run_functions_eagerly` option is set, this option does not apply to tf.data functions. To force eager execution of tf.data functions, please use `tf.data.experimental.enable_debug_mode()`.\n",
      "  warnings.warn(\n"
     ]
    },
    {
     "name": "stdout",
     "output_type": "stream",
     "text": [
      "\u001b[1m219/625\u001b[0m \u001b[32m━━━━━━━\u001b[0m\u001b[37m━━━━━━━━━━━━━\u001b[0m \u001b[1m16:12\u001b[0m 2s/step - accuracy: 0.5548 - loss: 0.6887"
     ]
    },
    {
     "ename": "KeyboardInterrupt",
     "evalue": "",
     "output_type": "error",
     "traceback": [
      "\u001b[31m---------------------------------------------------------------------------\u001b[39m",
      "\u001b[31mKeyboardInterrupt\u001b[39m                         Traceback (most recent call last)",
      "\u001b[32m/tmp/ipykernel_664403/2899039168.py\u001b[39m in \u001b[36m?\u001b[39m\u001b[34m()\u001b[39m\n\u001b[32m     12\u001b[39m     model = load_model(OUT_MODEL_PATH)\n\u001b[32m     13\u001b[39m \n\u001b[32m     14\u001b[39m \u001b[38;5;28;01melse\u001b[39;00m:\n\u001b[32m     15\u001b[39m     print(\u001b[33m\"Модель не найдена, тренируем...\"\u001b[39m)\n\u001b[32m---> \u001b[39m\u001b[32m16\u001b[39m     history = model.fit(\n\u001b[32m     17\u001b[39m         train_x, train_y,\n\u001b[32m     18\u001b[39m         epochs=\u001b[32m1\u001b[39m,\n\u001b[32m     19\u001b[39m         batch_size=\u001b[32m32\u001b[39m,\n",
      "\u001b[32m~/Desktop/university/bsu-nn/.venv/lib/python3.12/site-packages/keras/src/utils/traceback_utils.py\u001b[39m in \u001b[36m?\u001b[39m\u001b[34m(*args, **kwargs)\u001b[39m\n\u001b[32m    120\u001b[39m             \u001b[38;5;66;03m# To get the full stack trace, call:\u001b[39;00m\n\u001b[32m    121\u001b[39m             \u001b[38;5;66;03m# `keras.config.disable_traceback_filtering()`\u001b[39;00m\n\u001b[32m    122\u001b[39m             \u001b[38;5;28;01mraise\u001b[39;00m e.with_traceback(filtered_tb) \u001b[38;5;28;01mfrom\u001b[39;00m \u001b[38;5;28;01mNone\u001b[39;00m\n\u001b[32m    123\u001b[39m         \u001b[38;5;28;01mfinally\u001b[39;00m:\n\u001b[32m--> \u001b[39m\u001b[32m124\u001b[39m             \u001b[38;5;28;01mdel\u001b[39;00m filtered_tb\n",
      "\u001b[32m~/Desktop/university/bsu-nn/.venv/lib/python3.12/site-packages/keras/src/backend/tensorflow/trainer.py\u001b[39m in \u001b[36m?\u001b[39m\u001b[34m(self, x, y, batch_size, epochs, verbose, callbacks, validation_split, validation_data, shuffle, class_weight, sample_weight, initial_epoch, steps_per_epoch, validation_steps, validation_batch_size, validation_freq)\u001b[39m\n\u001b[32m    373\u001b[39m             callbacks.on_epoch_begin(epoch)\n\u001b[32m    374\u001b[39m             \u001b[38;5;28;01mwith\u001b[39;00m epoch_iterator.catch_stop_iteration():\n\u001b[32m    375\u001b[39m                 \u001b[38;5;28;01mfor\u001b[39;00m begin_step, end_step, iterator \u001b[38;5;28;01min\u001b[39;00m epoch_iterator:\n\u001b[32m    376\u001b[39m                     callbacks.on_train_batch_begin(begin_step)\n\u001b[32m--> \u001b[39m\u001b[32m377\u001b[39m                     logs = self.train_function(iterator)\n\u001b[32m    378\u001b[39m                     callbacks.on_train_batch_end(end_step, logs)\n\u001b[32m    379\u001b[39m                     \u001b[38;5;28;01mif\u001b[39;00m self.stop_training:\n\u001b[32m    380\u001b[39m                         \u001b[38;5;28;01mbreak\u001b[39;00m\n",
      "\u001b[32m~/Desktop/university/bsu-nn/.venv/lib/python3.12/site-packages/keras/src/backend/tensorflow/trainer.py\u001b[39m in \u001b[36m?\u001b[39m\u001b[34m(iterator)\u001b[39m\n\u001b[32m    216\u001b[39m         \u001b[38;5;28;01mdef\u001b[39;00m function(iterator):\n\u001b[32m    217\u001b[39m             if isinstance(\n\u001b[32m    218\u001b[39m                 iterator, (tf.data.Iterator, tf.distribute.DistributedIterator)\n\u001b[32m    219\u001b[39m             ):\n\u001b[32m--> \u001b[39m\u001b[32m220\u001b[39m                 opt_outputs = multi_step_on_iterator(iterator)\n\u001b[32m    221\u001b[39m                 \u001b[38;5;28;01mif\u001b[39;00m \u001b[38;5;28;01mnot\u001b[39;00m opt_outputs.has_value():\n\u001b[32m    222\u001b[39m                     \u001b[38;5;28;01mraise\u001b[39;00m StopIteration\n\u001b[32m    223\u001b[39m                 \u001b[38;5;28;01mreturn\u001b[39;00m opt_outputs.get_value()\n",
      "\u001b[32m~/Desktop/university/bsu-nn/.venv/lib/python3.12/site-packages/tensorflow/python/util/traceback_utils.py\u001b[39m in \u001b[36m?\u001b[39m\u001b[34m(*args, **kwargs)\u001b[39m\n\u001b[32m    151\u001b[39m     \u001b[38;5;28;01mexcept\u001b[39;00m Exception \u001b[38;5;28;01mas\u001b[39;00m e:\n\u001b[32m    152\u001b[39m       filtered_tb = _process_traceback_frames(e.__traceback__)\n\u001b[32m    153\u001b[39m       \u001b[38;5;28;01mraise\u001b[39;00m e.with_traceback(filtered_tb) \u001b[38;5;28;01mfrom\u001b[39;00m \u001b[38;5;28;01mNone\u001b[39;00m\n\u001b[32m    154\u001b[39m     \u001b[38;5;28;01mfinally\u001b[39;00m:\n\u001b[32m--> \u001b[39m\u001b[32m155\u001b[39m       \u001b[38;5;28;01mdel\u001b[39;00m filtered_tb\n",
      "\u001b[32m~/Desktop/university/bsu-nn/.venv/lib/python3.12/site-packages/tensorflow/python/eager/polymorphic_function/polymorphic_function.py\u001b[39m in \u001b[36m?\u001b[39m\u001b[34m(self, *args, **kwds)\u001b[39m\n\u001b[32m    806\u001b[39m   \u001b[38;5;28;01mdef\u001b[39;00m __call__(self, *args, **kwds):\n\u001b[32m    807\u001b[39m     \u001b[38;5;66;03m# Implements PolymorphicFunction.__call__.\u001b[39;00m\n\u001b[32m    808\u001b[39m     \u001b[38;5;28;01mif\u001b[39;00m self._run_functions_eagerly:\n\u001b[32m    809\u001b[39m       \u001b[38;5;28;01mwith\u001b[39;00m trace.Trace(self._name, tf_function_call=\u001b[33m\"eager\"\u001b[39m):\n\u001b[32m--> \u001b[39m\u001b[32m810\u001b[39m         \u001b[38;5;28;01mreturn\u001b[39;00m self._python_function(*args, **kwds)\n\u001b[32m    811\u001b[39m \n\u001b[32m    812\u001b[39m     \u001b[38;5;66;03m# Only count the statistics the first time, before initialization took\u001b[39;00m\n\u001b[32m    813\u001b[39m     \u001b[38;5;66;03m# place.\u001b[39;00m\n",
      "\u001b[32m~/Desktop/university/bsu-nn/.venv/lib/python3.12/site-packages/tensorflow/python/autograph/impl/api.py\u001b[39m in \u001b[36m?\u001b[39m\u001b[34m(*args, **kwargs)\u001b[39m\n\u001b[32m    641\u001b[39m   \u001b[38;5;28;01mdef\u001b[39;00m wrapper(*args, **kwargs):\n\u001b[32m    642\u001b[39m     \u001b[38;5;28;01mwith\u001b[39;00m ag_ctx.ControlStatusCtx(status=ag_ctx.Status.DISABLED):\n\u001b[32m--> \u001b[39m\u001b[32m643\u001b[39m       \u001b[38;5;28;01mreturn\u001b[39;00m func(*args, **kwargs)\n",
      "\u001b[32m~/Desktop/university/bsu-nn/.venv/lib/python3.12/site-packages/keras/src/backend/tensorflow/trainer.py\u001b[39m in \u001b[36m?\u001b[39m\u001b[34m(iterator)\u001b[39m\n\u001b[32m    129\u001b[39m         @tf.autograph.experimental.do_not_convert\n\u001b[32m    130\u001b[39m         \u001b[38;5;28;01mdef\u001b[39;00m multi_step_on_iterator(iterator):\n\u001b[32m    131\u001b[39m             \u001b[38;5;28;01mif\u001b[39;00m self.steps_per_execution == \u001b[32m1\u001b[39m:\n\u001b[32m    132\u001b[39m                 return tf.experimental.Optional.from_value(\n\u001b[32m--> \u001b[39m\u001b[32m133\u001b[39m                     one_step_on_data(iterator.get_next())\n\u001b[32m    134\u001b[39m                 )\n\u001b[32m    135\u001b[39m \n\u001b[32m    136\u001b[39m             \u001b[38;5;66;03m# the spec is set lazily during the tracing of `tf.while_loop`\u001b[39;00m\n",
      "\u001b[32m~/Desktop/university/bsu-nn/.venv/lib/python3.12/site-packages/tensorflow/python/util/traceback_utils.py\u001b[39m in \u001b[36m?\u001b[39m\u001b[34m(*args, **kwargs)\u001b[39m\n\u001b[32m    151\u001b[39m     \u001b[38;5;28;01mexcept\u001b[39;00m Exception \u001b[38;5;28;01mas\u001b[39;00m e:\n\u001b[32m    152\u001b[39m       filtered_tb = _process_traceback_frames(e.__traceback__)\n\u001b[32m    153\u001b[39m       \u001b[38;5;28;01mraise\u001b[39;00m e.with_traceback(filtered_tb) \u001b[38;5;28;01mfrom\u001b[39;00m \u001b[38;5;28;01mNone\u001b[39;00m\n\u001b[32m    154\u001b[39m     \u001b[38;5;28;01mfinally\u001b[39;00m:\n\u001b[32m--> \u001b[39m\u001b[32m155\u001b[39m       \u001b[38;5;28;01mdel\u001b[39;00m filtered_tb\n",
      "\u001b[32m~/Desktop/university/bsu-nn/.venv/lib/python3.12/site-packages/tensorflow/python/eager/polymorphic_function/polymorphic_function.py\u001b[39m in \u001b[36m?\u001b[39m\u001b[34m(self, *args, **kwds)\u001b[39m\n\u001b[32m    806\u001b[39m   \u001b[38;5;28;01mdef\u001b[39;00m __call__(self, *args, **kwds):\n\u001b[32m    807\u001b[39m     \u001b[38;5;66;03m# Implements PolymorphicFunction.__call__.\u001b[39;00m\n\u001b[32m    808\u001b[39m     \u001b[38;5;28;01mif\u001b[39;00m self._run_functions_eagerly:\n\u001b[32m    809\u001b[39m       \u001b[38;5;28;01mwith\u001b[39;00m trace.Trace(self._name, tf_function_call=\u001b[33m\"eager\"\u001b[39m):\n\u001b[32m--> \u001b[39m\u001b[32m810\u001b[39m         \u001b[38;5;28;01mreturn\u001b[39;00m self._python_function(*args, **kwds)\n\u001b[32m    811\u001b[39m \n\u001b[32m    812\u001b[39m     \u001b[38;5;66;03m# Only count the statistics the first time, before initialization took\u001b[39;00m\n\u001b[32m    813\u001b[39m     \u001b[38;5;66;03m# place.\u001b[39;00m\n",
      "\u001b[32m~/Desktop/university/bsu-nn/.venv/lib/python3.12/site-packages/tensorflow/python/autograph/impl/api.py\u001b[39m in \u001b[36m?\u001b[39m\u001b[34m(*args, **kwargs)\u001b[39m\n\u001b[32m    641\u001b[39m   \u001b[38;5;28;01mdef\u001b[39;00m wrapper(*args, **kwargs):\n\u001b[32m    642\u001b[39m     \u001b[38;5;28;01mwith\u001b[39;00m ag_ctx.ControlStatusCtx(status=ag_ctx.Status.DISABLED):\n\u001b[32m--> \u001b[39m\u001b[32m643\u001b[39m       \u001b[38;5;28;01mreturn\u001b[39;00m func(*args, **kwargs)\n",
      "\u001b[32m~/Desktop/university/bsu-nn/.venv/lib/python3.12/site-packages/keras/src/backend/tensorflow/trainer.py\u001b[39m in \u001b[36m?\u001b[39m\u001b[34m(data)\u001b[39m\n\u001b[32m    111\u001b[39m         @tf.autograph.experimental.do_not_convert\n\u001b[32m    112\u001b[39m         \u001b[38;5;28;01mdef\u001b[39;00m one_step_on_data(data):\n\u001b[32m    113\u001b[39m             \u001b[33m\"\"\"Runs a single training step on a batch of data.\"\"\"\u001b[39m\n\u001b[32m--> \u001b[39m\u001b[32m114\u001b[39m             outputs = self.distribute_strategy.run(step_function, args=(data,))\n\u001b[32m    115\u001b[39m             outputs = reduce_per_replica(\n\u001b[32m    116\u001b[39m                 outputs,\n\u001b[32m    117\u001b[39m                 self.distribute_strategy,\n",
      "\u001b[32m~/Desktop/university/bsu-nn/.venv/lib/python3.12/site-packages/tensorflow/python/distribute/distribute_lib.py\u001b[39m in \u001b[36m?\u001b[39m\u001b[34m(***failed resolving arguments***)\u001b[39m\n\u001b[32m   1669\u001b[39m       \u001b[38;5;66;03m# tf.distribute supports Eager functions, so AutoGraph should not be\u001b[39;00m\n\u001b[32m   1670\u001b[39m       \u001b[38;5;66;03m# applied when the caller is also in Eager mode.\u001b[39;00m\n\u001b[32m   1671\u001b[39m       fn = autograph.tf_convert(\n\u001b[32m   1672\u001b[39m           fn, autograph_ctx.control_status_ctx(), convert_by_default=\u001b[38;5;28;01mFalse\u001b[39;00m)\n\u001b[32m-> \u001b[39m\u001b[32m1673\u001b[39m       \u001b[38;5;28;01mreturn\u001b[39;00m self._extended.call_for_each_replica(fn, args=args, kwargs=kwargs)\n",
      "\u001b[32m~/Desktop/university/bsu-nn/.venv/lib/python3.12/site-packages/tensorflow/python/distribute/distribute_lib.py\u001b[39m in \u001b[36m?\u001b[39m\u001b[34m(self, fn, args, kwargs)\u001b[39m\n\u001b[32m   3259\u001b[39m     _require_cross_replica_or_default_context_extended(self)\n\u001b[32m   3260\u001b[39m     \u001b[38;5;28;01mif\u001b[39;00m kwargs \u001b[38;5;28;01mis\u001b[39;00m \u001b[38;5;28;01mNone\u001b[39;00m:\n\u001b[32m   3261\u001b[39m       kwargs = {}\n\u001b[32m   3262\u001b[39m     \u001b[38;5;28;01mwith\u001b[39;00m self._container_strategy().scope():\n\u001b[32m-> \u001b[39m\u001b[32m3263\u001b[39m       \u001b[38;5;28;01mreturn\u001b[39;00m self._call_for_each_replica(fn, args, kwargs)\n",
      "\u001b[32m~/Desktop/university/bsu-nn/.venv/lib/python3.12/site-packages/tensorflow/python/distribute/distribute_lib.py\u001b[39m in \u001b[36m?\u001b[39m\u001b[34m(self, fn, args, kwargs)\u001b[39m\n\u001b[32m   4059\u001b[39m   \u001b[38;5;28;01mdef\u001b[39;00m _call_for_each_replica(self, fn, args, kwargs):\n\u001b[32m   4060\u001b[39m     \u001b[38;5;28;01mwith\u001b[39;00m ReplicaContext(self._container_strategy(), replica_id_in_sync_group=\u001b[32m0\u001b[39m):\n\u001b[32m-> \u001b[39m\u001b[32m4061\u001b[39m       \u001b[38;5;28;01mreturn\u001b[39;00m fn(*args, **kwargs)\n",
      "\u001b[32m~/Desktop/university/bsu-nn/.venv/lib/python3.12/site-packages/tensorflow/python/autograph/impl/api.py\u001b[39m in \u001b[36m?\u001b[39m\u001b[34m(*args, **kwargs)\u001b[39m\n\u001b[32m    641\u001b[39m   \u001b[38;5;28;01mdef\u001b[39;00m wrapper(*args, **kwargs):\n\u001b[32m    642\u001b[39m     \u001b[38;5;28;01mwith\u001b[39;00m ag_ctx.ControlStatusCtx(status=ag_ctx.Status.DISABLED):\n\u001b[32m--> \u001b[39m\u001b[32m643\u001b[39m       \u001b[38;5;28;01mreturn\u001b[39;00m func(*args, **kwargs)\n",
      "\u001b[32m~/Desktop/university/bsu-nn/.venv/lib/python3.12/site-packages/keras/src/backend/tensorflow/trainer.py\u001b[39m in \u001b[36m?\u001b[39m\u001b[34m(self, data)\u001b[39m\n\u001b[32m     54\u001b[39m \n\u001b[32m     55\u001b[39m         \u001b[38;5;66;03m# Forward pass\u001b[39;00m\n\u001b[32m     56\u001b[39m         \u001b[38;5;28;01mwith\u001b[39;00m tf.GradientTape() \u001b[38;5;28;01mas\u001b[39;00m tape:\n\u001b[32m     57\u001b[39m             \u001b[38;5;28;01mif\u001b[39;00m self._call_has_training_arg:\n\u001b[32m---> \u001b[39m\u001b[32m58\u001b[39m                 y_pred = self(x, training=\u001b[38;5;28;01mTrue\u001b[39;00m)\n\u001b[32m     59\u001b[39m             \u001b[38;5;28;01melse\u001b[39;00m:\n\u001b[32m     60\u001b[39m                 y_pred = self(x)\n\u001b[32m     61\u001b[39m             loss = self._compute_loss(\n",
      "\u001b[32m~/Desktop/university/bsu-nn/.venv/lib/python3.12/site-packages/keras/src/utils/traceback_utils.py\u001b[39m in \u001b[36m?\u001b[39m\u001b[34m(*args, **kwargs)\u001b[39m\n\u001b[32m    120\u001b[39m             \u001b[38;5;66;03m# To get the full stack trace, call:\u001b[39;00m\n\u001b[32m    121\u001b[39m             \u001b[38;5;66;03m# `keras.config.disable_traceback_filtering()`\u001b[39;00m\n\u001b[32m    122\u001b[39m             \u001b[38;5;28;01mraise\u001b[39;00m e.with_traceback(filtered_tb) \u001b[38;5;28;01mfrom\u001b[39;00m \u001b[38;5;28;01mNone\u001b[39;00m\n\u001b[32m    123\u001b[39m         \u001b[38;5;28;01mfinally\u001b[39;00m:\n\u001b[32m--> \u001b[39m\u001b[32m124\u001b[39m             \u001b[38;5;28;01mdel\u001b[39;00m filtered_tb\n",
      "\u001b[32m~/Desktop/university/bsu-nn/.venv/lib/python3.12/site-packages/keras/src/layers/layer.py\u001b[39m in \u001b[36m?\u001b[39m\u001b[34m(self, *args, **kwargs)\u001b[39m\n\u001b[32m    975\u001b[39m                     \u001b[33m\"layers will not see the mask.\"\u001b[39m\n\u001b[32m    976\u001b[39m                 )\n\u001b[32m    977\u001b[39m         \u001b[38;5;28;01mfinally\u001b[39;00m:\n\u001b[32m    978\u001b[39m             \u001b[38;5;66;03m# Destroy call context if we created it\u001b[39;00m\n\u001b[32m--> \u001b[39m\u001b[32m979\u001b[39m             self._maybe_reset_call_context()\n\u001b[32m    980\u001b[39m \n\u001b[32m    981\u001b[39m         \u001b[38;5;66;03m################################################\u001b[39;00m\n\u001b[32m    982\u001b[39m         \u001b[38;5;66;03m# 8. Add a node in the graph for symbolic calls.\u001b[39;00m\n",
      "\u001b[32m~/Desktop/university/bsu-nn/.venv/lib/python3.12/site-packages/keras/src/utils/traceback_utils.py\u001b[39m in \u001b[36m?\u001b[39m\u001b[34m(*args, **kwargs)\u001b[39m\n\u001b[32m    120\u001b[39m             \u001b[38;5;66;03m# To get the full stack trace, call:\u001b[39;00m\n\u001b[32m    121\u001b[39m             \u001b[38;5;66;03m# `keras.config.disable_traceback_filtering()`\u001b[39;00m\n\u001b[32m    122\u001b[39m             \u001b[38;5;28;01mraise\u001b[39;00m e.with_traceback(filtered_tb) \u001b[38;5;28;01mfrom\u001b[39;00m \u001b[38;5;28;01mNone\u001b[39;00m\n\u001b[32m    123\u001b[39m         \u001b[38;5;28;01mfinally\u001b[39;00m:\n\u001b[32m--> \u001b[39m\u001b[32m124\u001b[39m             \u001b[38;5;28;01mdel\u001b[39;00m filtered_tb\n",
      "\u001b[32m~/Desktop/university/bsu-nn/.venv/lib/python3.12/site-packages/keras/src/ops/operation.py\u001b[39m in \u001b[36m?\u001b[39m\u001b[34m(self, *args, **kwargs)\u001b[39m\n\u001b[32m     55\u001b[39m             call_fn = traceback_utils.inject_argument_info_in_traceback(\n\u001b[32m     56\u001b[39m                 call_fn,\n\u001b[32m     57\u001b[39m                 object_name=(f\"{self.__class__.__name__}.call()\"),\n\u001b[32m     58\u001b[39m             )\n\u001b[32m---> \u001b[39m\u001b[32m59\u001b[39m             \u001b[38;5;28;01mreturn\u001b[39;00m call_fn(*args, **kwargs)\n\u001b[32m     60\u001b[39m \n\u001b[32m     61\u001b[39m         \u001b[38;5;66;03m# Plain flow.\u001b[39;00m\n\u001b[32m     62\u001b[39m         \u001b[38;5;28;01mif\u001b[39;00m any_symbolic_tensors(args, kwargs):\n",
      "\u001b[32m~/Desktop/university/bsu-nn/.venv/lib/python3.12/site-packages/keras/src/utils/traceback_utils.py\u001b[39m in \u001b[36m?\u001b[39m\u001b[34m(*args, **kwargs)\u001b[39m\n\u001b[32m    213\u001b[39m                 new_e = e\n\u001b[32m    214\u001b[39m             \u001b[38;5;28;01mraise\u001b[39;00m new_e.with_traceback(e.__traceback__) \u001b[38;5;28;01mfrom\u001b[39;00m \u001b[38;5;28;01mNone\u001b[39;00m\n\u001b[32m    215\u001b[39m         \u001b[38;5;28;01mfinally\u001b[39;00m:\n\u001b[32m    216\u001b[39m             \u001b[38;5;28;01mdel\u001b[39;00m signature\n\u001b[32m--> \u001b[39m\u001b[32m217\u001b[39m             \u001b[38;5;28;01mdel\u001b[39;00m bound_signature\n",
      "\u001b[32m~/Desktop/university/bsu-nn/.venv/lib/python3.12/site-packages/keras/src/models/sequential.py\u001b[39m in \u001b[36m?\u001b[39m\u001b[34m(self, inputs, training, mask, **kwargs)\u001b[39m\n\u001b[32m    218\u001b[39m     \u001b[38;5;28;01mdef\u001b[39;00m call(self, inputs, training=\u001b[38;5;28;01mNone\u001b[39;00m, mask=\u001b[38;5;28;01mNone\u001b[39;00m, **kwargs):\n\u001b[32m    219\u001b[39m         \u001b[38;5;28;01mif\u001b[39;00m self._functional:\n\u001b[32m--> \u001b[39m\u001b[32m220\u001b[39m             return self._functional.call(\n\u001b[32m    221\u001b[39m                 inputs, training=training, mask=mask, **kwargs\n\u001b[32m    222\u001b[39m             )\n\u001b[32m    223\u001b[39m \n",
      "\u001b[32m~/Desktop/university/bsu-nn/.venv/lib/python3.12/site-packages/keras/src/models/functional.py\u001b[39m in \u001b[36m?\u001b[39m\u001b[34m(self, inputs, training, mask, **kwargs)\u001b[39m\n\u001b[32m    179\u001b[39m             masks = tree.flatten(mask)\n\u001b[32m    180\u001b[39m             \u001b[38;5;28;01mfor\u001b[39;00m x, mask \u001b[38;5;28;01min\u001b[39;00m zip(inputs, masks):\n\u001b[32m    181\u001b[39m                 \u001b[38;5;28;01mif\u001b[39;00m mask \u001b[38;5;28;01mis\u001b[39;00m \u001b[38;5;28;01mnot\u001b[39;00m \u001b[38;5;28;01mNone\u001b[39;00m:\n\u001b[32m    182\u001b[39m                     backend.set_keras_mask(x, mask)\n\u001b[32m--> \u001b[39m\u001b[32m183\u001b[39m         outputs = self._run_through_graph(\n\u001b[32m    184\u001b[39m             inputs,\n\u001b[32m    185\u001b[39m             operation_fn=lambda op: operation_fn(\n\u001b[32m    186\u001b[39m                 op, training=training, **kwargs\n",
      "\u001b[32m~/Desktop/university/bsu-nn/.venv/lib/python3.12/site-packages/keras/src/ops/function.py\u001b[39m in \u001b[36m?\u001b[39m\u001b[34m(self, inputs, operation_fn, call_fn)\u001b[39m\n\u001b[32m    202\u001b[39m                 \u001b[38;5;28;01melse\u001b[39;00m:\n\u001b[32m    203\u001b[39m                     \u001b[38;5;66;03m# Use NNX operation mapping\u001b[39;00m\n\u001b[32m    204\u001b[39m                     operation = self._get_operation_for_node(node)\n\u001b[32m    205\u001b[39m                     op = operation_fn(operation)\n\u001b[32m--> \u001b[39m\u001b[32m206\u001b[39m                     outputs = op(*args, **kwargs)\n\u001b[32m    207\u001b[39m \n\u001b[32m    208\u001b[39m                 \u001b[38;5;66;03m# Update tensor_dict.\u001b[39;00m\n\u001b[32m    209\u001b[39m                 \u001b[38;5;28;01mfor\u001b[39;00m x, y \u001b[38;5;28;01min\u001b[39;00m zip(node.outputs, tree.flatten(outputs)):\n",
      "\u001b[32m~/Desktop/university/bsu-nn/.venv/lib/python3.12/site-packages/keras/src/models/functional.py\u001b[39m in \u001b[36m?\u001b[39m\u001b[34m(*args, **kwargs)\u001b[39m\n\u001b[32m    640\u001b[39m                 \u001b[38;5;28;01mand\u001b[39;00m value \u001b[38;5;28;01mis\u001b[39;00m \u001b[38;5;28;01mnot\u001b[39;00m \u001b[38;5;28;01mNone\u001b[39;00m\n\u001b[32m    641\u001b[39m             ):\n\u001b[32m    642\u001b[39m                 kwargs[name] = value\n\u001b[32m    643\u001b[39m \n\u001b[32m--> \u001b[39m\u001b[32m644\u001b[39m         \u001b[38;5;28;01mreturn\u001b[39;00m operation(*args, **kwargs)\n",
      "\u001b[32m~/Desktop/university/bsu-nn/.venv/lib/python3.12/site-packages/keras/src/utils/traceback_utils.py\u001b[39m in \u001b[36m?\u001b[39m\u001b[34m(*args, **kwargs)\u001b[39m\n\u001b[32m    120\u001b[39m             \u001b[38;5;66;03m# To get the full stack trace, call:\u001b[39;00m\n\u001b[32m    121\u001b[39m             \u001b[38;5;66;03m# `keras.config.disable_traceback_filtering()`\u001b[39;00m\n\u001b[32m    122\u001b[39m             \u001b[38;5;28;01mraise\u001b[39;00m e.with_traceback(filtered_tb) \u001b[38;5;28;01mfrom\u001b[39;00m \u001b[38;5;28;01mNone\u001b[39;00m\n\u001b[32m    123\u001b[39m         \u001b[38;5;28;01mfinally\u001b[39;00m:\n\u001b[32m--> \u001b[39m\u001b[32m124\u001b[39m             \u001b[38;5;28;01mdel\u001b[39;00m filtered_tb\n",
      "\u001b[32m~/Desktop/university/bsu-nn/.venv/lib/python3.12/site-packages/keras/src/layers/layer.py\u001b[39m in \u001b[36m?\u001b[39m\u001b[34m(self, *args, **kwargs)\u001b[39m\n\u001b[32m    975\u001b[39m                     \u001b[33m\"layers will not see the mask.\"\u001b[39m\n\u001b[32m    976\u001b[39m                 )\n\u001b[32m    977\u001b[39m         \u001b[38;5;28;01mfinally\u001b[39;00m:\n\u001b[32m    978\u001b[39m             \u001b[38;5;66;03m# Destroy call context if we created it\u001b[39;00m\n\u001b[32m--> \u001b[39m\u001b[32m979\u001b[39m             self._maybe_reset_call_context()\n\u001b[32m    980\u001b[39m \n\u001b[32m    981\u001b[39m         \u001b[38;5;66;03m################################################\u001b[39;00m\n\u001b[32m    982\u001b[39m         \u001b[38;5;66;03m# 8. Add a node in the graph for symbolic calls.\u001b[39;00m\n",
      "\u001b[32m~/Desktop/university/bsu-nn/.venv/lib/python3.12/site-packages/keras/src/utils/traceback_utils.py\u001b[39m in \u001b[36m?\u001b[39m\u001b[34m(*args, **kwargs)\u001b[39m\n\u001b[32m    120\u001b[39m             \u001b[38;5;66;03m# To get the full stack trace, call:\u001b[39;00m\n\u001b[32m    121\u001b[39m             \u001b[38;5;66;03m# `keras.config.disable_traceback_filtering()`\u001b[39;00m\n\u001b[32m    122\u001b[39m             \u001b[38;5;28;01mraise\u001b[39;00m e.with_traceback(filtered_tb) \u001b[38;5;28;01mfrom\u001b[39;00m \u001b[38;5;28;01mNone\u001b[39;00m\n\u001b[32m    123\u001b[39m         \u001b[38;5;28;01mfinally\u001b[39;00m:\n\u001b[32m--> \u001b[39m\u001b[32m124\u001b[39m             \u001b[38;5;28;01mdel\u001b[39;00m filtered_tb\n",
      "\u001b[32m~/Desktop/university/bsu-nn/.venv/lib/python3.12/site-packages/keras/src/ops/operation.py\u001b[39m in \u001b[36m?\u001b[39m\u001b[34m(self, *args, **kwargs)\u001b[39m\n\u001b[32m     55\u001b[39m             call_fn = traceback_utils.inject_argument_info_in_traceback(\n\u001b[32m     56\u001b[39m                 call_fn,\n\u001b[32m     57\u001b[39m                 object_name=(f\"{self.__class__.__name__}.call()\"),\n\u001b[32m     58\u001b[39m             )\n\u001b[32m---> \u001b[39m\u001b[32m59\u001b[39m             \u001b[38;5;28;01mreturn\u001b[39;00m call_fn(*args, **kwargs)\n\u001b[32m     60\u001b[39m \n\u001b[32m     61\u001b[39m         \u001b[38;5;66;03m# Plain flow.\u001b[39;00m\n\u001b[32m     62\u001b[39m         \u001b[38;5;28;01mif\u001b[39;00m any_symbolic_tensors(args, kwargs):\n",
      "\u001b[32m~/Desktop/university/bsu-nn/.venv/lib/python3.12/site-packages/keras/src/utils/traceback_utils.py\u001b[39m in \u001b[36m?\u001b[39m\u001b[34m(*args, **kwargs)\u001b[39m\n\u001b[32m    213\u001b[39m                 new_e = e\n\u001b[32m    214\u001b[39m             \u001b[38;5;28;01mraise\u001b[39;00m new_e.with_traceback(e.__traceback__) \u001b[38;5;28;01mfrom\u001b[39;00m \u001b[38;5;28;01mNone\u001b[39;00m\n\u001b[32m    215\u001b[39m         \u001b[38;5;28;01mfinally\u001b[39;00m:\n\u001b[32m    216\u001b[39m             \u001b[38;5;28;01mdel\u001b[39;00m signature\n\u001b[32m--> \u001b[39m\u001b[32m217\u001b[39m             \u001b[38;5;28;01mdel\u001b[39;00m bound_signature\n",
      "\u001b[32m~/Desktop/university/bsu-nn/.venv/lib/python3.12/site-packages/keras/src/layers/rnn/lstm.py\u001b[39m in \u001b[36m?\u001b[39m\u001b[34m(self, sequences, initial_state, mask, training)\u001b[39m\n\u001b[32m    582\u001b[39m     \u001b[38;5;28;01mdef\u001b[39;00m call(self, sequences, initial_state=\u001b[38;5;28;01mNone\u001b[39;00m, mask=\u001b[38;5;28;01mNone\u001b[39;00m, training=\u001b[38;5;28;01mFalse\u001b[39;00m):\n\u001b[32m--> \u001b[39m\u001b[32m583\u001b[39m         return super().call(\n\u001b[32m    584\u001b[39m             sequences, mask=mask, training=training, initial_state=initial_state\n\u001b[32m    585\u001b[39m         )\n",
      "\u001b[32m~/Desktop/university/bsu-nn/.venv/lib/python3.12/site-packages/keras/src/layers/rnn/rnn.py\u001b[39m in \u001b[36m?\u001b[39m\u001b[34m(self, sequences, initial_state, mask, training)\u001b[39m\n\u001b[32m    402\u001b[39m         self._maybe_config_dropout_masks(\n\u001b[32m    403\u001b[39m             self.cell, sequences[:, \u001b[32m0\u001b[39m, :], initial_state\n\u001b[32m    404\u001b[39m         )\n\u001b[32m    405\u001b[39m \n\u001b[32m--> \u001b[39m\u001b[32m406\u001b[39m         last_output, outputs, states = self.inner_loop(\n\u001b[32m    407\u001b[39m             sequences=sequences,\n\u001b[32m    408\u001b[39m             initial_state=initial_state,\n\u001b[32m    409\u001b[39m             mask=mask,\n",
      "\u001b[32m~/Desktop/university/bsu-nn/.venv/lib/python3.12/site-packages/keras/src/layers/rnn/lstm.py\u001b[39m in \u001b[36m?\u001b[39m\u001b[34m(self, sequences, initial_state, mask, training)\u001b[39m\n\u001b[32m    574\u001b[39m                 \u001b[33m\"but cuDNN is not supported for this layer configuration \"\u001b[39m\n\u001b[32m    575\u001b[39m                 \u001b[33m\"with this backend. Pass use_cudnn='auto' to fallback \"\u001b[39m\n\u001b[32m    576\u001b[39m                 \u001b[33m\"to a non-cuDNN implementation.\"\u001b[39m\n\u001b[32m    577\u001b[39m             )\n\u001b[32m--> \u001b[39m\u001b[32m578\u001b[39m         return super().inner_loop(\n\u001b[32m    579\u001b[39m             sequences, initial_state, mask=mask, training=training\n\u001b[32m    580\u001b[39m         )\n",
      "\u001b[32m~/Desktop/university/bsu-nn/.venv/lib/python3.12/site-packages/keras/src/layers/rnn/rnn.py\u001b[39m in \u001b[36m?\u001b[39m\u001b[34m(self, sequences, initial_state, mask, training)\u001b[39m\n\u001b[32m    342\u001b[39m \n\u001b[32m    343\u001b[39m         \u001b[38;5;28;01mif\u001b[39;00m \u001b[38;5;28;01mnot\u001b[39;00m tree.is_nested(initial_state):\n\u001b[32m    344\u001b[39m             initial_state = [initial_state]\n\u001b[32m    345\u001b[39m \n\u001b[32m--> \u001b[39m\u001b[32m346\u001b[39m         return backend.rnn(\n\u001b[32m    347\u001b[39m             step,\n\u001b[32m    348\u001b[39m             sequences,\n\u001b[32m    349\u001b[39m             initial_state,\n",
      "\u001b[32m~/Desktop/university/bsu-nn/.venv/lib/python3.12/site-packages/keras/src/backend/tensorflow/rnn.py\u001b[39m in \u001b[36m?\u001b[39m\u001b[34m(step_function, inputs, initial_states, go_backwards, mask, constants, unroll, input_length, time_major, zero_output_for_mask, return_all_outputs)\u001b[39m\n\u001b[32m    424\u001b[39m                     initial_states, flat_new_state\n\u001b[32m    425\u001b[39m                 )\n\u001b[32m    426\u001b[39m                 \u001b[38;5;28;01mreturn\u001b[39;00m (time + \u001b[32m1\u001b[39m, output_ta_t) + tuple(new_states)\n\u001b[32m    427\u001b[39m \n\u001b[32m--> \u001b[39m\u001b[32m428\u001b[39m             final_outputs = tf.while_loop(\n\u001b[32m    429\u001b[39m                 body=_step,\n\u001b[32m    430\u001b[39m                 loop_vars=(time, output_ta) + states,\n\u001b[32m    431\u001b[39m                 **while_loop_kwargs,\n",
      "\u001b[32m~/Desktop/university/bsu-nn/.venv/lib/python3.12/site-packages/tensorflow/python/util/deprecation.py\u001b[39m in \u001b[36m?\u001b[39m\u001b[34m(*args, **kwargs)\u001b[39m\n\u001b[32m    656\u001b[39m                   _call_location(), decorator_utils.get_qualified_name(func),\n\u001b[32m    657\u001b[39m                   func.__module__, arg_name, arg_value,\n\u001b[32m    658\u001b[39m                   \u001b[33m'in a future version'\u001b[39m \u001b[38;5;28;01mif\u001b[39;00m date \u001b[38;5;28;01mis\u001b[39;00m \u001b[38;5;28;01mNone\u001b[39;00m \u001b[38;5;28;01melse\u001b[39;00m\n\u001b[32m    659\u001b[39m                   (\u001b[33m'after %s'\u001b[39m % date), instructions)\n\u001b[32m--> \u001b[39m\u001b[32m660\u001b[39m       \u001b[38;5;28;01mreturn\u001b[39;00m func(*args, **kwargs)\n",
      "\u001b[32m~/Desktop/university/bsu-nn/.venv/lib/python3.12/site-packages/tensorflow/python/ops/while_loop.py\u001b[39m in \u001b[36m?\u001b[39m\u001b[34m(cond, body, loop_vars, shape_invariants, parallel_iterations, back_prop, swap_memory, maximum_iterations, name)\u001b[39m\n\u001b[32m    237\u001b[39m   ...   print(sess.run(x_out).shape)\n\u001b[32m    238\u001b[39m   (\u001b[32m1000\u001b[39m, \u001b[32m100\u001b[39m)\n\u001b[32m    239\u001b[39m \n\u001b[32m    240\u001b[39m   \"\"\"\n\u001b[32m--> \u001b[39m\u001b[32m241\u001b[39m   return while_loop(\n\u001b[32m    242\u001b[39m       cond=cond,\n\u001b[32m    243\u001b[39m       body=body,\n\u001b[32m    244\u001b[39m       loop_vars=loop_vars,\n",
      "\u001b[32m~/Desktop/university/bsu-nn/.venv/lib/python3.12/site-packages/tensorflow/python/ops/while_loop.py\u001b[39m in \u001b[36m?\u001b[39m\u001b[34m(cond, body, loop_vars, shape_invariants, parallel_iterations, back_prop, swap_memory, name, maximum_iterations, return_same_structure)\u001b[39m\n\u001b[32m    484\u001b[39m \n\u001b[32m    485\u001b[39m       loop_var_structure = nest.map_structure(type_spec.type_spec_from_value,\n\u001b[32m    486\u001b[39m                                               list(loop_vars))\n\u001b[32m    487\u001b[39m       \u001b[38;5;28;01mwhile\u001b[39;00m cond(*loop_vars):\n\u001b[32m--> \u001b[39m\u001b[32m488\u001b[39m         loop_vars = body(*loop_vars)\n\u001b[32m    489\u001b[39m         \u001b[38;5;28;01mif\u001b[39;00m try_to_pack \u001b[38;5;28;01mand\u001b[39;00m \u001b[38;5;28;01mnot\u001b[39;00m isinstance(loop_vars, (list, tuple)):\n\u001b[32m    490\u001b[39m           packed = \u001b[38;5;28;01mTrue\u001b[39;00m\n\u001b[32m    491\u001b[39m           loop_vars = (loop_vars,)\n",
      "\u001b[32m~/Desktop/university/bsu-nn/.venv/lib/python3.12/site-packages/tensorflow/python/ops/while_loop.py\u001b[39m in \u001b[36m?\u001b[39m\u001b[34m(i, lv)\u001b[39m\n\u001b[32m--> \u001b[39m\u001b[32m479\u001b[39m         body = \u001b[38;5;28;01mlambda\u001b[39;00m i, lv: (i + \u001b[32m1\u001b[39m, orig_body(*lv))\n",
      "\u001b[32m~/Desktop/university/bsu-nn/.venv/lib/python3.12/site-packages/keras/src/backend/tensorflow/rnn.py\u001b[39m in \u001b[36m?\u001b[39m\u001b[34m(time, output_ta_t, *states)\u001b[39m\n\u001b[32m    407\u001b[39m                     Tuple: `(time + \u001b[32m1\u001b[39m,output_ta_t) + tuple(new_states)`\n\u001b[32m    408\u001b[39m                 \"\"\"\n\u001b[32m    409\u001b[39m                 current_input = tuple(ta.read(time) \u001b[38;5;28;01mfor\u001b[39;00m ta \u001b[38;5;28;01min\u001b[39;00m input_ta)\n\u001b[32m    410\u001b[39m                 current_input = tree.pack_sequence_as(inputs, current_input)\n\u001b[32m--> \u001b[39m\u001b[32m411\u001b[39m                 output, new_states = step_function(\n\u001b[32m    412\u001b[39m                     current_input, tuple(states) + tuple(constants)\n\u001b[32m    413\u001b[39m                 )\n\u001b[32m    414\u001b[39m                 flat_new_state = tree.flatten(new_states)\n",
      "\u001b[32m~/Desktop/university/bsu-nn/.venv/lib/python3.12/site-packages/keras/src/layers/rnn/rnn.py\u001b[39m in \u001b[36m?\u001b[39m\u001b[34m(inputs, states)\u001b[39m\n\u001b[32m    334\u001b[39m             \u001b[38;5;66;03m# that would otherwise break PyTorch's autograd functionality\u001b[39;00m\n\u001b[32m    335\u001b[39m             \u001b[38;5;66;03m# by modifying tensors needed for gradient computation.\u001b[39;00m\n\u001b[32m    336\u001b[39m             \u001b[38;5;28;01mif\u001b[39;00m backend.backend() == \u001b[33m\"torch\"\u001b[39m \u001b[38;5;28;01mand\u001b[39;00m self.stateful:\n\u001b[32m    337\u001b[39m                 states = tree.map_structure(ops.copy, states)\n\u001b[32m--> \u001b[39m\u001b[32m338\u001b[39m             output, new_states = self.cell(inputs, states, **cell_kwargs)\n\u001b[32m    339\u001b[39m             \u001b[38;5;28;01mif\u001b[39;00m \u001b[38;5;28;01mnot\u001b[39;00m tree.is_nested(new_states):\n\u001b[32m    340\u001b[39m                 new_states = [new_states]\n\u001b[32m    341\u001b[39m             \u001b[38;5;28;01mreturn\u001b[39;00m output, new_states\n",
      "\u001b[32m~/Desktop/university/bsu-nn/.venv/lib/python3.12/site-packages/keras/src/utils/traceback_utils.py\u001b[39m in \u001b[36m?\u001b[39m\u001b[34m(*args, **kwargs)\u001b[39m\n\u001b[32m    120\u001b[39m             \u001b[38;5;66;03m# To get the full stack trace, call:\u001b[39;00m\n\u001b[32m    121\u001b[39m             \u001b[38;5;66;03m# `keras.config.disable_traceback_filtering()`\u001b[39;00m\n\u001b[32m    122\u001b[39m             \u001b[38;5;28;01mraise\u001b[39;00m e.with_traceback(filtered_tb) \u001b[38;5;28;01mfrom\u001b[39;00m \u001b[38;5;28;01mNone\u001b[39;00m\n\u001b[32m    123\u001b[39m         \u001b[38;5;28;01mfinally\u001b[39;00m:\n\u001b[32m--> \u001b[39m\u001b[32m124\u001b[39m             \u001b[38;5;28;01mdel\u001b[39;00m filtered_tb\n",
      "\u001b[32m~/Desktop/university/bsu-nn/.venv/lib/python3.12/site-packages/keras/src/layers/layer.py\u001b[39m in \u001b[36m?\u001b[39m\u001b[34m(self, *args, **kwargs)\u001b[39m\n\u001b[32m    975\u001b[39m                     \u001b[33m\"layers will not see the mask.\"\u001b[39m\n\u001b[32m    976\u001b[39m                 )\n\u001b[32m    977\u001b[39m         \u001b[38;5;28;01mfinally\u001b[39;00m:\n\u001b[32m    978\u001b[39m             \u001b[38;5;66;03m# Destroy call context if we created it\u001b[39;00m\n\u001b[32m--> \u001b[39m\u001b[32m979\u001b[39m             self._maybe_reset_call_context()\n\u001b[32m    980\u001b[39m \n\u001b[32m    981\u001b[39m         \u001b[38;5;66;03m################################################\u001b[39;00m\n\u001b[32m    982\u001b[39m         \u001b[38;5;66;03m# 8. Add a node in the graph for symbolic calls.\u001b[39;00m\n",
      "\u001b[32m~/Desktop/university/bsu-nn/.venv/lib/python3.12/site-packages/keras/src/utils/traceback_utils.py\u001b[39m in \u001b[36m?\u001b[39m\u001b[34m(*args, **kwargs)\u001b[39m\n\u001b[32m    120\u001b[39m             \u001b[38;5;66;03m# To get the full stack trace, call:\u001b[39;00m\n\u001b[32m    121\u001b[39m             \u001b[38;5;66;03m# `keras.config.disable_traceback_filtering()`\u001b[39;00m\n\u001b[32m    122\u001b[39m             \u001b[38;5;28;01mraise\u001b[39;00m e.with_traceback(filtered_tb) \u001b[38;5;28;01mfrom\u001b[39;00m \u001b[38;5;28;01mNone\u001b[39;00m\n\u001b[32m    123\u001b[39m         \u001b[38;5;28;01mfinally\u001b[39;00m:\n\u001b[32m--> \u001b[39m\u001b[32m124\u001b[39m             \u001b[38;5;28;01mdel\u001b[39;00m filtered_tb\n",
      "\u001b[32m~/Desktop/university/bsu-nn/.venv/lib/python3.12/site-packages/keras/src/ops/operation.py\u001b[39m in \u001b[36m?\u001b[39m\u001b[34m(self, *args, **kwargs)\u001b[39m\n\u001b[32m     55\u001b[39m             call_fn = traceback_utils.inject_argument_info_in_traceback(\n\u001b[32m     56\u001b[39m                 call_fn,\n\u001b[32m     57\u001b[39m                 object_name=(f\"{self.__class__.__name__}.call()\"),\n\u001b[32m     58\u001b[39m             )\n\u001b[32m---> \u001b[39m\u001b[32m59\u001b[39m             \u001b[38;5;28;01mreturn\u001b[39;00m call_fn(*args, **kwargs)\n\u001b[32m     60\u001b[39m \n\u001b[32m     61\u001b[39m         \u001b[38;5;66;03m# Plain flow.\u001b[39;00m\n\u001b[32m     62\u001b[39m         \u001b[38;5;28;01mif\u001b[39;00m any_symbolic_tensors(args, kwargs):\n",
      "\u001b[32m~/Desktop/university/bsu-nn/.venv/lib/python3.12/site-packages/keras/src/utils/traceback_utils.py\u001b[39m in \u001b[36m?\u001b[39m\u001b[34m(*args, **kwargs)\u001b[39m\n\u001b[32m    213\u001b[39m                 new_e = e\n\u001b[32m    214\u001b[39m             \u001b[38;5;28;01mraise\u001b[39;00m new_e.with_traceback(e.__traceback__) \u001b[38;5;28;01mfrom\u001b[39;00m \u001b[38;5;28;01mNone\u001b[39;00m\n\u001b[32m    215\u001b[39m         \u001b[38;5;28;01mfinally\u001b[39;00m:\n\u001b[32m    216\u001b[39m             \u001b[38;5;28;01mdel\u001b[39;00m signature\n\u001b[32m--> \u001b[39m\u001b[32m217\u001b[39m             \u001b[38;5;28;01mdel\u001b[39;00m bound_signature\n",
      "\u001b[32m~/Desktop/university/bsu-nn/.venv/lib/python3.12/site-packages/keras/src/layers/rnn/lstm.py\u001b[39m in \u001b[36m?\u001b[39m\u001b[34m(self, inputs, states, training)\u001b[39m\n\u001b[32m    267\u001b[39m                 h_tm1_c = h_tm1\n\u001b[32m    268\u001b[39m                 h_tm1_o = h_tm1\n\u001b[32m    269\u001b[39m             x = (x_i, x_f, x_c, x_o)\n\u001b[32m    270\u001b[39m             h_tm1 = (h_tm1_i, h_tm1_f, h_tm1_c, h_tm1_o)\n\u001b[32m--> \u001b[39m\u001b[32m271\u001b[39m             c, o = self._compute_carry_and_output(x, h_tm1, c_tm1)\n\u001b[32m    272\u001b[39m         \u001b[38;5;28;01melse\u001b[39;00m:\n\u001b[32m    273\u001b[39m             \u001b[38;5;28;01mif\u001b[39;00m training \u001b[38;5;28;01mand\u001b[39;00m \u001b[32m0.0\u001b[39m < self.dropout < \u001b[32m1.0\u001b[39m:\n\u001b[32m    274\u001b[39m                 dp_mask = self.get_dropout_mask(inputs)\n",
      "\u001b[32m~/Desktop/university/bsu-nn/.venv/lib/python3.12/site-packages/keras/src/layers/rnn/lstm.py\u001b[39m in \u001b[36m?\u001b[39m\u001b[34m(self, x, h_tm1, c_tm1)\u001b[39m\n\u001b[32m    208\u001b[39m         c = f * c_tm1 + i * self.activation(\n\u001b[32m    209\u001b[39m             x_c\n\u001b[32m    210\u001b[39m             + ops.matmul(\n\u001b[32m    211\u001b[39m                 h_tm1_c,\n\u001b[32m--> \u001b[39m\u001b[32m212\u001b[39m                 self.recurrent_kernel[:, self.units * \u001b[32m2\u001b[39m : self.units * \u001b[32m3\u001b[39m],\n\u001b[32m    213\u001b[39m             )\n\u001b[32m    214\u001b[39m         )\n\u001b[32m    215\u001b[39m         o = self.recurrent_activation(\n",
      "\u001b[32m~/Desktop/university/bsu-nn/.venv/lib/python3.12/site-packages/keras/src/backend/common/variables.py\u001b[39m in \u001b[36m?\u001b[39m\u001b[34m(self, idx)\u001b[39m\n\u001b[32m    421\u001b[39m     \u001b[38;5;28;01mdef\u001b[39;00m __getitem__(self, idx):\n\u001b[32m--> \u001b[39m\u001b[32m422\u001b[39m         \u001b[38;5;28;01mreturn\u001b[39;00m self.value.__getitem__(idx)\n",
      "\u001b[32m~/Desktop/university/bsu-nn/.venv/lib/python3.12/site-packages/tensorflow/python/ops/tensor_getitem_override.py\u001b[39m in \u001b[36m?\u001b[39m\u001b[34m(var, slice_spec)\u001b[39m\n\u001b[32m    307\u001b[39m       ellipsis, tf.newaxis \u001b[38;5;28;01mor\u001b[39;00m int32/int64 tensors.\n\u001b[32m    308\u001b[39m \n\u001b[32m    309\u001b[39m   \"\"\"\n\u001b[32m    310\u001b[39m \n\u001b[32m--> \u001b[39m\u001b[32m311\u001b[39m   \u001b[38;5;28;01mreturn\u001b[39;00m _slice_helper(var.value(), slice_spec, var)\n",
      "\u001b[32m~/Desktop/university/bsu-nn/.venv/lib/python3.12/site-packages/tensorflow/python/util/traceback_utils.py\u001b[39m in \u001b[36m?\u001b[39m\u001b[34m(*args, **kwargs)\u001b[39m\n\u001b[32m    151\u001b[39m     \u001b[38;5;28;01mexcept\u001b[39;00m Exception \u001b[38;5;28;01mas\u001b[39;00m e:\n\u001b[32m    152\u001b[39m       filtered_tb = _process_traceback_frames(e.__traceback__)\n\u001b[32m    153\u001b[39m       \u001b[38;5;28;01mraise\u001b[39;00m e.with_traceback(filtered_tb) \u001b[38;5;28;01mfrom\u001b[39;00m \u001b[38;5;28;01mNone\u001b[39;00m\n\u001b[32m    154\u001b[39m     \u001b[38;5;28;01mfinally\u001b[39;00m:\n\u001b[32m--> \u001b[39m\u001b[32m155\u001b[39m       \u001b[38;5;28;01mdel\u001b[39;00m filtered_tb\n",
      "\u001b[32m~/Desktop/university/bsu-nn/.venv/lib/python3.12/site-packages/tensorflow/python/util/dispatch.py\u001b[39m in \u001b[36m?\u001b[39m\u001b[34m(*args, **kwargs)\u001b[39m\n\u001b[32m   1261\u001b[39m \n\u001b[32m   1262\u001b[39m       \u001b[38;5;66;03m# Fallback dispatch system (dispatch v1):\u001b[39;00m\n\u001b[32m   1263\u001b[39m       \u001b[38;5;28;01mtry\u001b[39;00m:\n\u001b[32m   1264\u001b[39m         \u001b[38;5;28;01mreturn\u001b[39;00m dispatch_target(*args, **kwargs)\n\u001b[32m-> \u001b[39m\u001b[32m1265\u001b[39m       \u001b[38;5;28;01mexcept\u001b[39;00m (TypeError, ValueError):\n\u001b[32m   1266\u001b[39m         \u001b[38;5;66;03m# Note: convert_to_eager_tensor currently raises a ValueError, not a\u001b[39;00m\n\u001b[32m   1267\u001b[39m         \u001b[38;5;66;03m# TypeError, when given unexpected types.  So we need to catch both.\u001b[39;00m\n\u001b[32m   1268\u001b[39m         result = dispatch(op_dispatch_handler, args, kwargs)\n",
      "\u001b[32m~/Desktop/university/bsu-nn/.venv/lib/python3.12/site-packages/tensorflow/python/ops/tensor_getitem_override.py\u001b[39m in \u001b[36m?\u001b[39m\u001b[34m(tensor, slice_spec, var)\u001b[39m\n\u001b[32m    252\u001b[39m           packed_strides = gen_math_ops.cast(packed_strides, dtypes.int16)\n\u001b[32m    253\u001b[39m     \u001b[38;5;28;01melse\u001b[39;00m:\n\u001b[32m    254\u001b[39m       var_empty = constant_op.constant([], dtype=dtypes.int32)\n\u001b[32m    255\u001b[39m       packed_begin = packed_end = packed_strides = var_empty\n\u001b[32m--> \u001b[39m\u001b[32m256\u001b[39m     return array_ops.strided_slice(\n\u001b[32m    257\u001b[39m         tensor,\n\u001b[32m    258\u001b[39m         packed_begin,\n\u001b[32m    259\u001b[39m         packed_end,\n",
      "\u001b[32m~/Desktop/university/bsu-nn/.venv/lib/python3.12/site-packages/tensorflow/python/util/traceback_utils.py\u001b[39m in \u001b[36m?\u001b[39m\u001b[34m(*args, **kwargs)\u001b[39m\n\u001b[32m    151\u001b[39m     \u001b[38;5;28;01mexcept\u001b[39;00m Exception \u001b[38;5;28;01mas\u001b[39;00m e:\n\u001b[32m    152\u001b[39m       filtered_tb = _process_traceback_frames(e.__traceback__)\n\u001b[32m    153\u001b[39m       \u001b[38;5;28;01mraise\u001b[39;00m e.with_traceback(filtered_tb) \u001b[38;5;28;01mfrom\u001b[39;00m \u001b[38;5;28;01mNone\u001b[39;00m\n\u001b[32m    154\u001b[39m     \u001b[38;5;28;01mfinally\u001b[39;00m:\n\u001b[32m--> \u001b[39m\u001b[32m155\u001b[39m       \u001b[38;5;28;01mdel\u001b[39;00m filtered_tb\n",
      "\u001b[32m~/Desktop/university/bsu-nn/.venv/lib/python3.12/site-packages/tensorflow/python/util/dispatch.py\u001b[39m in \u001b[36m?\u001b[39m\u001b[34m(*args, **kwargs)\u001b[39m\n\u001b[32m   1261\u001b[39m \n\u001b[32m   1262\u001b[39m       \u001b[38;5;66;03m# Fallback dispatch system (dispatch v1):\u001b[39;00m\n\u001b[32m   1263\u001b[39m       \u001b[38;5;28;01mtry\u001b[39;00m:\n\u001b[32m   1264\u001b[39m         \u001b[38;5;28;01mreturn\u001b[39;00m dispatch_target(*args, **kwargs)\n\u001b[32m-> \u001b[39m\u001b[32m1265\u001b[39m       \u001b[38;5;28;01mexcept\u001b[39;00m (TypeError, ValueError):\n\u001b[32m   1266\u001b[39m         \u001b[38;5;66;03m# Note: convert_to_eager_tensor currently raises a ValueError, not a\u001b[39;00m\n\u001b[32m   1267\u001b[39m         \u001b[38;5;66;03m# TypeError, when given unexpected types.  So we need to catch both.\u001b[39;00m\n\u001b[32m   1268\u001b[39m         result = dispatch(op_dispatch_handler, args, kwargs)\n",
      "\u001b[32m~/Desktop/university/bsu-nn/.venv/lib/python3.12/site-packages/tensorflow/python/ops/array_ops.py\u001b[39m in \u001b[36m?\u001b[39m\u001b[34m(input_, begin, end, strides, begin_mask, end_mask, ellipsis_mask, new_axis_mask, shrink_axis_mask, var, name)\u001b[39m\n\u001b[32m   1093\u001b[39m \n\u001b[32m   1094\u001b[39m   \u001b[38;5;28;01mif\u001b[39;00m strides \u001b[38;5;28;01mis\u001b[39;00m \u001b[38;5;28;01mNone\u001b[39;00m:\n\u001b[32m   1095\u001b[39m     strides = ones_like(begin)\n\u001b[32m   1096\u001b[39m \n\u001b[32m-> \u001b[39m\u001b[32m1097\u001b[39m   op = gen_array_ops.strided_slice(\n\u001b[32m   1098\u001b[39m       input=input_,\n\u001b[32m   1099\u001b[39m       begin=begin,\n\u001b[32m   1100\u001b[39m       end=end,\n",
      "\u001b[32m~/Desktop/university/bsu-nn/.venv/lib/python3.12/site-packages/tensorflow/python/ops/gen_array_ops.py\u001b[39m in \u001b[36m?\u001b[39m\u001b[34m(input, begin, end, strides, begin_mask, end_mask, ellipsis_mask, new_axis_mask, shrink_axis_mask, name)\u001b[39m\n\u001b[32m  11010\u001b[39m         \u001b[33m\"new_axis_mask\"\u001b[39m, new_axis_mask, \u001b[33m\"shrink_axis_mask\"\u001b[39m, shrink_axis_mask)\n\u001b[32m  11011\u001b[39m       \u001b[38;5;28;01mreturn\u001b[39;00m _result\n\u001b[32m  11012\u001b[39m     \u001b[38;5;28;01mexcept\u001b[39;00m _core._NotOkStatusException \u001b[38;5;28;01mas\u001b[39;00m e:\n\u001b[32m  11013\u001b[39m       _ops.raise_from_not_ok_status(e, name)\n\u001b[32m> \u001b[39m\u001b[32m11014\u001b[39m     \u001b[38;5;28;01mexcept\u001b[39;00m _core._FallbackException:\n\u001b[32m  11015\u001b[39m       \u001b[38;5;28;01mpass\u001b[39;00m\n\u001b[32m  11016\u001b[39m     \u001b[38;5;28;01mtry\u001b[39;00m:\n\u001b[32m  11017\u001b[39m       return strided_slice_eager_fallback(\n",
      "\u001b[31mKeyboardInterrupt\u001b[39m: "
     ]
    }
   ],
   "source": [
    "import os\n",
    "from tensorflow.keras.models import load_model\n",
    "\n",
    "# -----------------------------\n",
    "# Обучение или загрузка\n",
    "# -----------------------------\n",
    "\n",
    "force_train = True\n",
    "\n",
    "if not force_train and os.path.exists(OUT_MODEL_PATH):\n",
    "    print(\"Модель найдена, загружаем вместо тренировки...\")\n",
    "    model = load_model(OUT_MODEL_PATH)\n",
    "\n",
    "else:\n",
    "    print(\"Модель не найдена, тренируем...\")\n",
    "    history = model.fit(\n",
    "        train_x, train_y,\n",
    "        epochs=1,\n",
    "        batch_size=32,\n",
    "        validation_split=0.2\n",
    "    )\n",
    "    print(\"Сохраняем модель...\")\n",
    "    model.save(OUT_MODEL_PATH)\n",
    "    print(f\"Модель сохранена в {OUT_MODEL_PATH}\")"
   ]
  },
  {
   "cell_type": "code",
   "execution_count": null,
   "id": "7d7d4b6e",
   "metadata": {},
   "outputs": [
    {
     "name": "stdout",
     "output_type": "stream",
     "text": [
      "\u001b[1m782/782\u001b[0m \u001b[32m━━━━━━━━━━━━━━━━━━━━\u001b[0m\u001b[37m\u001b[0m \u001b[1m10s\u001b[0m 13ms/step - accuracy: 0.5296 - loss: 0.8406\n",
      "Test loss: 0.8406, Test accuracy: 0.5296\n"
     ]
    }
   ],
   "source": [
    "# -----------------------------\n",
    "# Оценка модели на тесте\n",
    "# -----------------------------\n",
    "loss, acc = model.evaluate(test_x, test_y)\n",
    "print(f\"Test loss: {loss:.4f}, Test accuracy: {acc:.4f}\")"
   ]
  },
  {
   "cell_type": "markdown",
   "id": "a888dd18",
   "metadata": {},
   "source": [
    "## Задание 2.  (из  тем  10.1–10.2):\n",
    "\n",
    "С использованием предварительно обученной нейронной сети определите тональность своего отзыва.\n",
    "\n",
    "Прилагаю файл reviews retrieving - скрипт, позволяющий восстанавливать тексты отзывов с Intenet Movie DataBase.\n",
    "\n",
    "В качестве входных данных нужно предоставить текст своего отзыва (можно написать прямо в окне \"Ответ в виде текста\").\n",
    "\n",
    "В качестве результатов, пожалуйста, сдайте обученную рекуррентную нейронную сеть и результат распознавания ею Вашего отзыва."
   ]
  },
  {
   "cell_type": "code",
   "execution_count": 10,
   "id": "1c8cd1b8",
   "metadata": {},
   "outputs": [
    {
     "name": "stderr",
     "output_type": "stream",
     "text": [
      "/home/ars/Desktop/university/bsu-nn/.venv/lib/python3.12/site-packages/tensorflow/python/data/ops/structured_function.py:258: UserWarning: Even though the `tf.config.experimental_run_functions_eagerly` option is set, this option does not apply to tf.data functions. To force eager execution of tf.data functions, please use `tf.data.experimental.enable_debug_mode()`.\n",
      "  warnings.warn(\n"
     ]
    },
    {
     "name": "stdout",
     "output_type": "stream",
     "text": [
      "\u001b[1m1/1\u001b[0m \u001b[32m━━━━━━━━━━━━━━━━━━━━\u001b[0m\u001b[37m\u001b[0m \u001b[1m2s\u001b[0m 2s/step\n",
      "Тональность вашего отзыва: Отрицательная (0.4457)\n"
     ]
    }
   ],
   "source": [
    "# -----------------------------\n",
    "# Распознать мой отзыв\n",
    "# -----------------------------\n",
    "\n",
    "my_review = \"This movie was amazing! The plot was engaging and the characters were believable.\"\n",
    "\n",
    "# Загружаем словарь IMDB\n",
    "word_to_id = imdb.get_word_index()\n",
    "word_to_id = {k:(v+3) for k,v in word_to_id.items()}\n",
    "word_to_id[\"<PAD>\"] = 0\n",
    "word_to_id[\"<START>\"] = 1\n",
    "word_to_id[\"<UNK>\"] = 2\n",
    "word_to_id[\"<UNUSED>\"] = 3\n",
    "\n",
    "# Конвертируем отзыв в последовательность индексов\n",
    "def text_to_sequence(text):\n",
    "    import re\n",
    "    sequence = []\n",
    "    words = re.sub(r\"[^\\w\\s]\", \"\", text.lower()).split()\n",
    "    for word in words:\n",
    "        index = word_to_id.get(word, 2)  # <UNK>\n",
    "        sequence.append(index)\n",
    "    return sequence\n",
    "\n",
    "my_seq = pad_sequences([text_to_sequence(my_review)], maxlen=MAX_LEN, padding='post')\n",
    "\n",
    "# Предсказание\n",
    "pred = model.predict(my_seq)[0][0]\n",
    "print(f\"Тональность вашего отзыва: {'Положительная' if pred>=0.5 else 'Отрицательная'} ({pred:.4f})\")"
   ]
  },
  {
   "cell_type": "code",
   "execution_count": null,
   "id": "a3e3c2d7",
   "metadata": {},
   "outputs": [],
   "source": []
  }
 ],
 "metadata": {
  "kernelspec": {
   "display_name": "neural_networks",
   "language": "python",
   "name": "neural_networks"
  },
  "language_info": {
   "codemirror_mode": {
    "name": "ipython",
    "version": 3
   },
   "file_extension": ".py",
   "mimetype": "text/x-python",
   "name": "python",
   "nbconvert_exporter": "python",
   "pygments_lexer": "ipython3",
   "version": "3.12.3"
  }
 },
 "nbformat": 4,
 "nbformat_minor": 5
}
