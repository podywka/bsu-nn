{
 "cells": [
  {
   "cell_type": "markdown",
   "id": "5a258a1e-5425-4053-b290-888c79d28ad7",
   "metadata": {},
   "source": [
    "# Лабораторная 1.1\n",
    "\n",
    "## Задание 1\n",
    "Разберите фрагмент алгоритма и реализуйте его на языке Python.  \n",
    "Проверьте работу сети для входов `I1=1, I2=0` и весов `w1=0.45, w2=0.78, w3=-0.12, w4=0.13, w5=1.5, w6=-2.3`.\n"
   ]
  },
  {
   "cell_type": "code",
   "execution_count": 1,
   "id": "4400f728-6007-4128-9a77-6dea7791ca21",
   "metadata": {},
   "outputs": [
    {
     "data": {
      "text/plain": [
       "(0.45,\n",
       " 0.610639233949222,\n",
       " 0.78,\n",
       " 0.6856801139382539,\n",
       " -0.6611054111341508,\n",
       " 0.34049134000389103,\n",
       " 0.4349516726098633)"
      ]
     },
     "execution_count": 1,
     "metadata": {},
     "output_type": "execute_result"
    }
   ],
   "source": [
    "import math\n",
    "\n",
    "def sigmoid(x):\n",
    "    return 1 / (1 + math.exp(-x))\n",
    "\n",
    "# входы\n",
    "I1, I2 = 1, 0\n",
    "\n",
    "# веса\n",
    "w1, w2, w3, w4, w5, w6 = 0.45, 0.78, -0.12, 0.13, 1.5, -2.3\n",
    "\n",
    "# скрытый слой\n",
    "H1input = I1 * w1 + I2 * w3\n",
    "H1output = sigmoid(H1input)\n",
    "\n",
    "H2input = I1 * w2 + I2 * w4\n",
    "H2output = sigmoid(H2input)\n",
    "\n",
    "# выходной слой\n",
    "O1input = H1output * w5 + H2output * w6\n",
    "O1output = sigmoid(O1input)\n",
    "\n",
    "# целевое значение (xor)\n",
    "O1ideal = 1\n",
    "error = (O1ideal - O1output) ** 2\n",
    "\n",
    "H1input, H1output, H2input, H2output, O1input, O1output, error\n"
   ]
  },
  {
   "cell_type": "markdown",
   "id": "478c0a69-a883-488c-b0a7-4a017f935f29",
   "metadata": {},
   "source": [
    "## Задание 2\n",
    "Подберите веса для более точного приближения функции XOR для всех четырёх наборов входов.\n",
    "\n",
    "| I1 | I2 | XOR |\n",
    "|----|----|-----|\n",
    "| 0  | 0  |  0  |\n",
    "| 0  | 1  |  1  |\n",
    "| 1  | 0  |  1  |\n",
    "| 1  | 1  |  0  |"
   ]
  },
  {
   "cell_type": "code",
   "execution_count": 3,
   "id": "d9ccf4a8-e84f-4cb1-b363-152260e4ecc4",
   "metadata": {},
   "outputs": [],
   "source": [
    "import itertools\n",
    "\n",
    "def sigmoid(x):\n",
    "    return 1 / (1 + math.exp(-x))\n",
    "\n",
    "def xor_network(I1, I2, w11, w12, b1, w21, w22, b2, w31, w32, b3):\n",
    "    H1 = sigmoid(I1 * w11 + I2 * w12 + b1)\n",
    "    H2 = sigmoid(I1 * w21 + I2 * w22 + b2)\n",
    "    O  = sigmoid(H1 * w31 + H2 * w32 + b3)\n",
    "    return O\n",
    "\n",
    "def check_xor_results(w11, w12, b1, w21, w22, b2, w31, w32, b3):\n",
    "    inputs = list(itertools.product([0,1],[0,1]))\n",
    "    results = []\n",
    "    for I1, I2 in inputs:\n",
    "        out = xor_network(I1, I2, w11, w12, b1, w21, w22, b2, w31, w32, b3)\n",
    "        results.append((I1, I2, round(out,3)))\n",
    "    return results"
   ]
  },
  {
   "cell_type": "code",
   "execution_count": 4,
   "id": "926e7082-7ac3-444c-8d73-d39c63611097",
   "metadata": {},
   "outputs": [
    {
     "data": {
      "text/plain": [
       "[(0, 0, 0.5), (0, 1, 1.0), (1, 0, 1.0), (1, 1, 1.0)]"
      ]
     },
     "execution_count": 4,
     "metadata": {},
     "output_type": "execute_result"
    }
   ],
   "source": [
    "w11, w12, b1 = 10, 10, 0\n",
    "w21, w22, b2 = -10, -10, 0\n",
    "w31, w32, b3 = 15, -15, 0\n",
    "\n",
    "results1 = check_xor_results(w11, w12, b1, w21, w22, b2, w31, w32, b3)\n",
    "results1"
   ]
  },
  {
   "cell_type": "markdown",
   "id": "11809345-d553-4d97-9763-7201902899d9",
   "metadata": {},
   "source": [
    "## Задание 3\n",
    "Используя нейрон смещения, подберите веса для более точного приближения <исключающего или> всего набора из четырех тренировочных сетов (можно использовать заданную трехслойную сеть или рассмотреть упрощенную двухслойную сеть).\n"
   ]
  },
  {
   "cell_type": "code",
   "execution_count": 5,
   "id": "b7b288a3-6036-4445-8638-1fe152e0aecf",
   "metadata": {},
   "outputs": [
    {
     "data": {
      "text/plain": [
       "[(0, 0, 0.013), (0, 1, 0.989), (1, 0, 0.989), (1, 1, 0.012)]"
      ]
     },
     "execution_count": 5,
     "metadata": {},
     "output_type": "execute_result"
    }
   ],
   "source": [
    "w11, w12, b1 = 6.804, 6.682, -3.025\n",
    "w21, w22, b2 = 4.824, 4.795, -7.377\n",
    "w31, w32, b3 = 10.304, -11.018, -4.793\n",
    "\n",
    "results2 = check_xor_results(w11, w12, b1, w21, w22, b2, w31, w32, b3)\n",
    "results2"
   ]
  },
  {
   "cell_type": "markdown",
   "id": "a3f70ef6",
   "metadata": {},
   "source": [
    "# Задание 4 (для специальности ПИ).\n",
    "Заданы координаты пяти точек на плоскости:\n",
    "\n",
    "(1, 5), (7, 4), (5, 2), (7, 5), (4, 7).\n",
    "\n",
    "Задано число кластеров: 2. \n",
    "\n",
    "Проведите кластеризацию методом K-means. Выполните две итерации. "
   ]
  },
  {
   "cell_type": "code",
   "execution_count": null,
   "id": "673218eb",
   "metadata": {},
   "outputs": [
    {
     "data": {
      "image/png": "[encoded data removed]",
      "text/plain": [
       "<Figure size 1200x500 with 2 Axes>"
      ]
     },
     "metadata": {},
     "output_type": "display_data"
    }
   ],
   "source": [
    "import numpy as np\n",
    "import matplotlib.pyplot as plt\n",
    "\n",
    "# Данные\n",
    "points = np.array([\n",
    "    [1, 5],\n",
    "    [7, 4],\n",
    "    [5, 2],\n",
    "    [7, 5],\n",
    "    [4, 7]\n",
    "])\n",
    "\n",
    "# Количество кластеров\n",
    "k = 2\n",
    "\n",
    "# Фиксируем начальные центроиды (первые две точки)\n",
    "centroids = points[:k].astype(float)\n",
    "\n",
    "# Цвета для кластеров\n",
    "colors = [\"red\", \"blue\", \"green\", \"purple\", \"orange\"]\n",
    "\n",
    "fig, axes = plt.subplots(1, 2, figsize=(12, 5))\n",
    "\n",
    "for iteration in range(2):\n",
    "    # Шаг 1: назначение точек ближайшему центроиду\n",
    "    distances = np.linalg.norm(points[:, None, :] - centroids[None, :, :], axis=2)\n",
    "    labels = np.argmin(distances, axis=1)\n",
    "\n",
    "    # Шаг 2: пересчёт центроидов\n",
    "    new_centroids = np.array([\n",
    "        points[labels == j].mean(axis=0) if np.any(labels == j) else centroids[j]\n",
    "        for j in range(k)\n",
    "    ])\n",
    "\n",
    "    # Визуализация\n",
    "    ax = axes[iteration]\n",
    "    for j in range(k):\n",
    "        cluster_points = points[labels == j]\n",
    "        ax.scatter(cluster_points[:, 0], cluster_points[:, 1], c=colors[j], label=f\"Cluster {j+1}\")\n",
    "        ax.scatter(centroids[j, 0], centroids[j, 1], c=colors[j], marker=\"x\", s=200, linewidths=3)\n",
    "    \n",
    "    ax.set_title(f\"Iteration {iteration+1}\")\n",
    "    ax.legend()\n",
    "    ax.grid(True, linestyle=\"--\", alpha=0.5)\n",
    "\n",
    "    centroids = new_centroids\n",
    "\n",
    "plt.suptitle(\"K-means clustering (2 iterations, k=2)\", fontsize=14)\n",
    "plt.show()\n"
   ]
  },
  {
   "cell_type": "code",
   "execution_count": null,
   "id": "85baa298-8958-4d9d-8fc4-7b895e448182",
   "metadata": {},
   "outputs": [],
   "source": []
  }
 ],
 "metadata": {
  "kernelspec": {
   "display_name": "neural_networks",
   "language": "python",
   "name": "neural_networks"
  },
  "language_info": {
   "codemirror_mode": {
    "name": "ipython",
    "version": 3
   },
   "file_extension": ".py",
   "mimetype": "text/x-python",
   "name": "python",
   "nbconvert_exporter": "python",
   "pygments_lexer": "ipython3",
   "version": "3.12.3"
  }
 },
 "nbformat": 4,
 "nbformat_minor": 5
}
